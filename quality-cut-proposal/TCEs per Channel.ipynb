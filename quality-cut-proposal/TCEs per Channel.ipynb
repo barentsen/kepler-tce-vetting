{
 "cells": [
  {
   "cell_type": "markdown",
   "metadata": {},
   "source": [
    "# How many long-period TCEs were observed per channel?"
   ]
  },
  {
   "cell_type": "code",
   "execution_count": 1,
   "metadata": {
    "collapsed": true
   },
   "outputs": [],
   "source": [
    "%matplotlib inline\n",
    "import matplotlib.pyplot as pl\n",
    "from matplotlib import rcParams\n",
    "rcParams[\"savefig.dpi\"] = 100\n",
    "import seaborn as sns\n",
    "\n",
    "import numpy as np\n",
    "import pandas as pd\n",
    "import itertools\n",
    "from tqdm import tqdm"
   ]
  },
  {
   "cell_type": "code",
   "execution_count": 2,
   "metadata": {
    "collapsed": true
   },
   "outputs": [],
   "source": [
    "# Read the TCE table\n",
    "tcedf = pd.read_csv('../data/q1_q17_dr25_tce.csv')\n",
    "# Add the unique TCE ID used by the RoboVetter output:\n",
    "tcedf.loc[:, 'tce'] = ['{:09d}-{:02d}'.format(row.kepid, row.tce_plnt_num) for row in tcedf.itertuples()]"
   ]
  },
  {
   "cell_type": "code",
   "execution_count": 17,
   "metadata": {
    "collapsed": false
   },
   "outputs": [
    {
     "data": {
      "text/plain": [
       "12968"
      ]
     },
     "execution_count": 17,
     "metadata": {},
     "output_type": "execute_result"
    }
   ],
   "source": [
    "long_period_tces = tcedf[tcedf.tce_period > 100]\n",
    "len(long_period_tces)"
   ]
  },
  {
   "cell_type": "code",
   "execution_count": 18,
   "metadata": {
    "collapsed": false
   },
   "outputs": [
    {
     "data": {
      "text/html": [
       "<div>\n",
       "<table border=\"1\" class=\"dataframe\">\n",
       "  <thead>\n",
       "    <tr style=\"text-align: right;\">\n",
       "      <th></th>\n",
       "      <th>ra</th>\n",
       "      <th>dec</th>\n",
       "      <th>tce_delivname</th>\n",
       "      <th>tce_datalink_dvr</th>\n",
       "      <th>tce_datalink_dvs</th>\n",
       "      <th>tce_nkoi</th>\n",
       "      <th>kepid</th>\n",
       "      <th>tce_plnt_num</th>\n",
       "      <th>tce_num_transits</th>\n",
       "      <th>tce_max_sngle_ev</th>\n",
       "      <th>...</th>\n",
       "      <th>tce_ptemp_stat</th>\n",
       "      <th>tce_cap_stat</th>\n",
       "      <th>tce_hap_stat</th>\n",
       "      <th>tce_rb_tpdur</th>\n",
       "      <th>tce_rb_tcount0</th>\n",
       "      <th>tce_rb_tcount1</th>\n",
       "      <th>tce_rb_tcount2</th>\n",
       "      <th>tce_rb_tcount3</th>\n",
       "      <th>tce_rb_tcount4</th>\n",
       "      <th>tce</th>\n",
       "    </tr>\n",
       "  </thead>\n",
       "  <tbody>\n",
       "    <tr>\n",
       "      <th>0</th>\n",
       "      <td>291.701250</td>\n",
       "      <td>37.66675</td>\n",
       "      <td>q1_q17_dr25_tce</td>\n",
       "      <td>002/002304/002304168/dv/kplr002304168-20160209...</td>\n",
       "      <td>002/002304/002304168/dv/kplr002304168-002-2016...</td>\n",
       "      <td>0</td>\n",
       "      <td>2304168</td>\n",
       "      <td>2</td>\n",
       "      <td>4</td>\n",
       "      <td>9.305</td>\n",
       "      <td>...</td>\n",
       "      <td>0.0000</td>\n",
       "      <td>0.9458</td>\n",
       "      <td>0.8097</td>\n",
       "      <td>24</td>\n",
       "      <td>4</td>\n",
       "      <td>0</td>\n",
       "      <td>0</td>\n",
       "      <td>0</td>\n",
       "      <td>0</td>\n",
       "      <td>002304168-02</td>\n",
       "    </tr>\n",
       "    <tr>\n",
       "      <th>5</th>\n",
       "      <td>291.477371</td>\n",
       "      <td>37.62855</td>\n",
       "      <td>q1_q17_dr25_tce</td>\n",
       "      <td>002/002303/002303102/dv/kplr002303102-20160209...</td>\n",
       "      <td>002/002303/002303102/dv/kplr002303102-010-2016...</td>\n",
       "      <td>0</td>\n",
       "      <td>2303102</td>\n",
       "      <td>10</td>\n",
       "      <td>3</td>\n",
       "      <td>9.748</td>\n",
       "      <td>...</td>\n",
       "      <td>7.1010</td>\n",
       "      <td>2.6640</td>\n",
       "      <td>2.0380</td>\n",
       "      <td>31</td>\n",
       "      <td>2</td>\n",
       "      <td>0</td>\n",
       "      <td>0</td>\n",
       "      <td>0</td>\n",
       "      <td>0</td>\n",
       "      <td>002303102-10</td>\n",
       "    </tr>\n",
       "    <tr>\n",
       "      <th>11</th>\n",
       "      <td>291.063879</td>\n",
       "      <td>36.63581</td>\n",
       "      <td>q1_q17_dr25_tce</td>\n",
       "      <td>000/000892/000892376/dv/kplr000892376-20160209...</td>\n",
       "      <td>000/000892/000892376/dv/kplr000892376-001-2016...</td>\n",
       "      <td>0</td>\n",
       "      <td>892376</td>\n",
       "      <td>1</td>\n",
       "      <td>3</td>\n",
       "      <td>9.917</td>\n",
       "      <td>...</td>\n",
       "      <td>3.9710</td>\n",
       "      <td>2.1990</td>\n",
       "      <td>0.2353</td>\n",
       "      <td>24</td>\n",
       "      <td>3</td>\n",
       "      <td>0</td>\n",
       "      <td>0</td>\n",
       "      <td>0</td>\n",
       "      <td>0</td>\n",
       "      <td>000892376-01</td>\n",
       "    </tr>\n",
       "    <tr>\n",
       "      <th>14</th>\n",
       "      <td>291.063879</td>\n",
       "      <td>36.63581</td>\n",
       "      <td>q1_q17_dr25_tce</td>\n",
       "      <td>000/000892/000892376/dv/kplr000892376-20160209...</td>\n",
       "      <td>000/000892/000892376/dv/kplr000892376-004-2016...</td>\n",
       "      <td>0</td>\n",
       "      <td>892376</td>\n",
       "      <td>4</td>\n",
       "      <td>3</td>\n",
       "      <td>13.270</td>\n",
       "      <td>...</td>\n",
       "      <td>0.6546</td>\n",
       "      <td>3.3580</td>\n",
       "      <td>0.3712</td>\n",
       "      <td>6</td>\n",
       "      <td>3</td>\n",
       "      <td>0</td>\n",
       "      <td>0</td>\n",
       "      <td>0</td>\n",
       "      <td>0</td>\n",
       "      <td>000892376-04</td>\n",
       "    </tr>\n",
       "    <tr>\n",
       "      <th>16</th>\n",
       "      <td>291.063879</td>\n",
       "      <td>36.63581</td>\n",
       "      <td>q1_q17_dr25_tce</td>\n",
       "      <td>000/000892/000892376/dv/kplr000892376-20160209...</td>\n",
       "      <td>000/000892/000892376/dv/kplr000892376-005-2016...</td>\n",
       "      <td>0</td>\n",
       "      <td>892376</td>\n",
       "      <td>5</td>\n",
       "      <td>10</td>\n",
       "      <td>8.958</td>\n",
       "      <td>...</td>\n",
       "      <td>0.6064</td>\n",
       "      <td>1.1210</td>\n",
       "      <td>2.0770</td>\n",
       "      <td>24</td>\n",
       "      <td>9</td>\n",
       "      <td>0</td>\n",
       "      <td>0</td>\n",
       "      <td>0</td>\n",
       "      <td>0</td>\n",
       "      <td>000892376-05</td>\n",
       "    </tr>\n",
       "  </tbody>\n",
       "</table>\n",
       "<p>5 rows × 170 columns</p>\n",
       "</div>"
      ],
      "text/plain": [
       "            ra       dec    tce_delivname  \\\n",
       "0   291.701250  37.66675  q1_q17_dr25_tce   \n",
       "5   291.477371  37.62855  q1_q17_dr25_tce   \n",
       "11  291.063879  36.63581  q1_q17_dr25_tce   \n",
       "14  291.063879  36.63581  q1_q17_dr25_tce   \n",
       "16  291.063879  36.63581  q1_q17_dr25_tce   \n",
       "\n",
       "                                     tce_datalink_dvr  \\\n",
       "0   002/002304/002304168/dv/kplr002304168-20160209...   \n",
       "5   002/002303/002303102/dv/kplr002303102-20160209...   \n",
       "11  000/000892/000892376/dv/kplr000892376-20160209...   \n",
       "14  000/000892/000892376/dv/kplr000892376-20160209...   \n",
       "16  000/000892/000892376/dv/kplr000892376-20160209...   \n",
       "\n",
       "                                     tce_datalink_dvs  tce_nkoi    kepid  \\\n",
       "0   002/002304/002304168/dv/kplr002304168-002-2016...         0  2304168   \n",
       "5   002/002303/002303102/dv/kplr002303102-010-2016...         0  2303102   \n",
       "11  000/000892/000892376/dv/kplr000892376-001-2016...         0   892376   \n",
       "14  000/000892/000892376/dv/kplr000892376-004-2016...         0   892376   \n",
       "16  000/000892/000892376/dv/kplr000892376-005-2016...         0   892376   \n",
       "\n",
       "    tce_plnt_num  tce_num_transits  tce_max_sngle_ev      ...       \\\n",
       "0              2                 4             9.305      ...        \n",
       "5             10                 3             9.748      ...        \n",
       "11             1                 3             9.917      ...        \n",
       "14             4                 3            13.270      ...        \n",
       "16             5                10             8.958      ...        \n",
       "\n",
       "    tce_ptemp_stat  tce_cap_stat  tce_hap_stat  tce_rb_tpdur  tce_rb_tcount0  \\\n",
       "0           0.0000        0.9458        0.8097            24               4   \n",
       "5           7.1010        2.6640        2.0380            31               2   \n",
       "11          3.9710        2.1990        0.2353            24               3   \n",
       "14          0.6546        3.3580        0.3712             6               3   \n",
       "16          0.6064        1.1210        2.0770            24               9   \n",
       "\n",
       "    tce_rb_tcount1  tce_rb_tcount2  tce_rb_tcount3  tce_rb_tcount4  \\\n",
       "0                0               0               0               0   \n",
       "5                0               0               0               0   \n",
       "11               0               0               0               0   \n",
       "14               0               0               0               0   \n",
       "16               0               0               0               0   \n",
       "\n",
       "             tce  \n",
       "0   002304168-02  \n",
       "5   002303102-10  \n",
       "11  000892376-01  \n",
       "14  000892376-04  \n",
       "16  000892376-05  \n",
       "\n",
       "[5 rows x 170 columns]"
      ]
     },
     "execution_count": 18,
     "metadata": {},
     "output_type": "execute_result"
    }
   ],
   "source": [
    "long_period_tces.head()"
   ]
  },
  {
   "cell_type": "code",
   "execution_count": 26,
   "metadata": {
    "collapsed": false
   },
   "outputs": [
    {
     "name": "stderr",
     "output_type": "stream",
     "text": [
      "\n"
     ]
    }
   ],
   "source": [
    "import requests\n",
    "\n",
    "QUARTER = 10\n",
    "\n",
    "def get_channel_module_output(kepler_id):\n",
    "    # Hack to prevent MAST from throwing a stupid 'Max retries exceeded with url' error\n",
    "    max_records = np.random.randint(10000, 999990000)\n",
    "    url = ('http://archive.stsci.edu/kepler/data_search/search.php?'\n",
    "           'target={}&sci_data_quarter={}'\n",
    "           '&action=Search&outputformat=JSON'\n",
    "           '&max_records={}').format(int(kepler_id), int(QUARTER), max_records)\n",
    "    resp = requests.get(url)\n",
    "    if 'no rows found' in str(resp.content):\n",
    "        return None, None, None\n",
    "    else:\n",
    "        return int(resp.json()[0]['Channel']), int(resp.json()[0]['Module']), int(resp.json()[0]['Output'])\n",
    "\n",
    "def tce_to_channel_module_output(tce_idx):\n",
    "    tce = long_period_tces.ix[tce_idx]\n",
    "    ch, mod, out = get_channel_module_output(tce.kepid)\n",
    "    return {'idx': tce_idx,\n",
    "            'kepid': tce.kepid,\n",
    "            'quarter': QUARTER,\n",
    "            'channel': ch,\n",
    "            'module': mod,\n",
    "            'output': out}"
   ]
  },
  {
   "cell_type": "code",
   "execution_count": 27,
   "metadata": {
    "collapsed": false
   },
   "outputs": [
    {
     "name": "stderr",
     "output_type": "stream",
     "text": [
      "\n",
      "\n",
      "  0%|          | 0/12968 [00:00<?, ?it/s]\n",
      "\n",
      " 13%|█▎        | 1712/12968 [02:00<13:09, 14.26it/s]\n",
      "\n",
      " 28%|██▊       | 3574/12968 [04:00<10:43, 14.60it/s]\n",
      "\n",
      " 40%|████      | 5232/12968 [06:00<08:59, 14.35it/s]\n",
      "\n",
      " 54%|█████▍    | 7026/12968 [08:00<06:49, 14.52it/s]\n",
      "\n",
      " 68%|██████▊   | 8769/12968 [10:00<04:49, 14.52it/s]\n",
      "\n",
      " 81%|████████  | 10473/12968 [12:00<02:53, 14.42it/s]\n",
      "\n",
      " 94%|█████████▍| 12198/12968 [14:01<00:53, 14.40it/s]\n",
      "\n",
      "100%|██████████| 12968/12968 [14:59<00:00, 14.41it/s]"
     ]
    }
   ],
   "source": [
    "import multiprocessing\n",
    "pool = multiprocessing.Pool(processes=15)\n",
    "results = []\n",
    "for result in tqdm(pool.imap(tce_to_channel_module_output, long_period_tces.index),\n",
    "                   total=len(long_period_tces), mininterval=120, maxinterval=240):\n",
    "    results.append(result)"
   ]
  },
  {
   "cell_type": "code",
   "execution_count": 29,
   "metadata": {
    "collapsed": false
   },
   "outputs": [
    {
     "data": {
      "text/html": [
       "<div>\n",
       "<table border=\"1\" class=\"dataframe\">\n",
       "  <thead>\n",
       "    <tr style=\"text-align: right;\">\n",
       "      <th></th>\n",
       "      <th>channel</th>\n",
       "      <th>idx</th>\n",
       "      <th>kepid</th>\n",
       "      <th>module</th>\n",
       "      <th>output</th>\n",
       "      <th>quarter</th>\n",
       "    </tr>\n",
       "    <tr>\n",
       "      <th>idx</th>\n",
       "      <th></th>\n",
       "      <th></th>\n",
       "      <th></th>\n",
       "      <th></th>\n",
       "      <th></th>\n",
       "      <th></th>\n",
       "    </tr>\n",
       "  </thead>\n",
       "  <tbody>\n",
       "    <tr>\n",
       "      <th>0</th>\n",
       "      <td>4.0</td>\n",
       "      <td>0</td>\n",
       "      <td>2304168</td>\n",
       "      <td>2.0</td>\n",
       "      <td>4.0</td>\n",
       "      <td>10</td>\n",
       "    </tr>\n",
       "    <tr>\n",
       "      <th>5</th>\n",
       "      <td>4.0</td>\n",
       "      <td>5</td>\n",
       "      <td>2303102</td>\n",
       "      <td>2.0</td>\n",
       "      <td>4.0</td>\n",
       "      <td>10</td>\n",
       "    </tr>\n",
       "    <tr>\n",
       "      <th>11</th>\n",
       "      <td>4.0</td>\n",
       "      <td>11</td>\n",
       "      <td>892376</td>\n",
       "      <td>2.0</td>\n",
       "      <td>4.0</td>\n",
       "      <td>10</td>\n",
       "    </tr>\n",
       "    <tr>\n",
       "      <th>14</th>\n",
       "      <td>4.0</td>\n",
       "      <td>14</td>\n",
       "      <td>892376</td>\n",
       "      <td>2.0</td>\n",
       "      <td>4.0</td>\n",
       "      <td>10</td>\n",
       "    </tr>\n",
       "    <tr>\n",
       "      <th>16</th>\n",
       "      <td>4.0</td>\n",
       "      <td>16</td>\n",
       "      <td>892376</td>\n",
       "      <td>2.0</td>\n",
       "      <td>4.0</td>\n",
       "      <td>10</td>\n",
       "    </tr>\n",
       "  </tbody>\n",
       "</table>\n",
       "</div>"
      ],
      "text/plain": [
       "     channel  idx    kepid  module  output  quarter\n",
       "idx                                                \n",
       "0        4.0    0  2304168     2.0     4.0       10\n",
       "5        4.0    5  2303102     2.0     4.0       10\n",
       "11       4.0   11   892376     2.0     4.0       10\n",
       "14       4.0   14   892376     2.0     4.0       10\n",
       "16       4.0   16   892376     2.0     4.0       10"
      ]
     },
     "execution_count": 29,
     "metadata": {},
     "output_type": "execute_result"
    }
   ],
   "source": [
    "channelinfo = pd.DataFrame(results)\n",
    "channelinfo.index = channelinfo['idx']\n",
    "channelinfo.head()"
   ]
  },
  {
   "cell_type": "code",
   "execution_count": 38,
   "metadata": {
    "collapsed": false
   },
   "outputs": [],
   "source": [
    "q10 = long_period_tces.merge(channelinfo, left_index=True, right_index=True)"
   ]
  },
  {
   "cell_type": "code",
   "execution_count": 39,
   "metadata": {
    "collapsed": false
   },
   "outputs": [
    {
     "name": "stdout",
     "output_type": "stream",
     "text": [
      "12968\n"
     ]
    },
    {
     "name": "stderr",
     "output_type": "stream",
     "text": [
      "\n"
     ]
    },
    {
     "data": {
      "text/html": [
       "<div>\n",
       "<table border=\"1\" class=\"dataframe\">\n",
       "  <thead>\n",
       "    <tr style=\"text-align: right;\">\n",
       "      <th></th>\n",
       "      <th>ra</th>\n",
       "      <th>dec</th>\n",
       "      <th>tce_delivname</th>\n",
       "      <th>tce_datalink_dvr</th>\n",
       "      <th>tce_datalink_dvs</th>\n",
       "      <th>tce_nkoi</th>\n",
       "      <th>kepid_x</th>\n",
       "      <th>tce_plnt_num</th>\n",
       "      <th>tce_num_transits</th>\n",
       "      <th>tce_max_sngle_ev</th>\n",
       "      <th>...</th>\n",
       "      <th>tce_rb_tcount2</th>\n",
       "      <th>tce_rb_tcount3</th>\n",
       "      <th>tce_rb_tcount4</th>\n",
       "      <th>tce</th>\n",
       "      <th>channel</th>\n",
       "      <th>idx</th>\n",
       "      <th>kepid_y</th>\n",
       "      <th>module</th>\n",
       "      <th>output</th>\n",
       "      <th>quarter</th>\n",
       "    </tr>\n",
       "  </thead>\n",
       "  <tbody>\n",
       "    <tr>\n",
       "      <th>0</th>\n",
       "      <td>291.701250</td>\n",
       "      <td>37.66675</td>\n",
       "      <td>q1_q17_dr25_tce</td>\n",
       "      <td>002/002304/002304168/dv/kplr002304168-20160209...</td>\n",
       "      <td>002/002304/002304168/dv/kplr002304168-002-2016...</td>\n",
       "      <td>0</td>\n",
       "      <td>2304168</td>\n",
       "      <td>2</td>\n",
       "      <td>4</td>\n",
       "      <td>9.305</td>\n",
       "      <td>...</td>\n",
       "      <td>0</td>\n",
       "      <td>0</td>\n",
       "      <td>0</td>\n",
       "      <td>002304168-02</td>\n",
       "      <td>4.0</td>\n",
       "      <td>0</td>\n",
       "      <td>2304168</td>\n",
       "      <td>2.0</td>\n",
       "      <td>4.0</td>\n",
       "      <td>10</td>\n",
       "    </tr>\n",
       "    <tr>\n",
       "      <th>5</th>\n",
       "      <td>291.477371</td>\n",
       "      <td>37.62855</td>\n",
       "      <td>q1_q17_dr25_tce</td>\n",
       "      <td>002/002303/002303102/dv/kplr002303102-20160209...</td>\n",
       "      <td>002/002303/002303102/dv/kplr002303102-010-2016...</td>\n",
       "      <td>0</td>\n",
       "      <td>2303102</td>\n",
       "      <td>10</td>\n",
       "      <td>3</td>\n",
       "      <td>9.748</td>\n",
       "      <td>...</td>\n",
       "      <td>0</td>\n",
       "      <td>0</td>\n",
       "      <td>0</td>\n",
       "      <td>002303102-10</td>\n",
       "      <td>4.0</td>\n",
       "      <td>5</td>\n",
       "      <td>2303102</td>\n",
       "      <td>2.0</td>\n",
       "      <td>4.0</td>\n",
       "      <td>10</td>\n",
       "    </tr>\n",
       "    <tr>\n",
       "      <th>11</th>\n",
       "      <td>291.063879</td>\n",
       "      <td>36.63581</td>\n",
       "      <td>q1_q17_dr25_tce</td>\n",
       "      <td>000/000892/000892376/dv/kplr000892376-20160209...</td>\n",
       "      <td>000/000892/000892376/dv/kplr000892376-001-2016...</td>\n",
       "      <td>0</td>\n",
       "      <td>892376</td>\n",
       "      <td>1</td>\n",
       "      <td>3</td>\n",
       "      <td>9.917</td>\n",
       "      <td>...</td>\n",
       "      <td>0</td>\n",
       "      <td>0</td>\n",
       "      <td>0</td>\n",
       "      <td>000892376-01</td>\n",
       "      <td>4.0</td>\n",
       "      <td>11</td>\n",
       "      <td>892376</td>\n",
       "      <td>2.0</td>\n",
       "      <td>4.0</td>\n",
       "      <td>10</td>\n",
       "    </tr>\n",
       "    <tr>\n",
       "      <th>14</th>\n",
       "      <td>291.063879</td>\n",
       "      <td>36.63581</td>\n",
       "      <td>q1_q17_dr25_tce</td>\n",
       "      <td>000/000892/000892376/dv/kplr000892376-20160209...</td>\n",
       "      <td>000/000892/000892376/dv/kplr000892376-004-2016...</td>\n",
       "      <td>0</td>\n",
       "      <td>892376</td>\n",
       "      <td>4</td>\n",
       "      <td>3</td>\n",
       "      <td>13.270</td>\n",
       "      <td>...</td>\n",
       "      <td>0</td>\n",
       "      <td>0</td>\n",
       "      <td>0</td>\n",
       "      <td>000892376-04</td>\n",
       "      <td>4.0</td>\n",
       "      <td>14</td>\n",
       "      <td>892376</td>\n",
       "      <td>2.0</td>\n",
       "      <td>4.0</td>\n",
       "      <td>10</td>\n",
       "    </tr>\n",
       "    <tr>\n",
       "      <th>16</th>\n",
       "      <td>291.063879</td>\n",
       "      <td>36.63581</td>\n",
       "      <td>q1_q17_dr25_tce</td>\n",
       "      <td>000/000892/000892376/dv/kplr000892376-20160209...</td>\n",
       "      <td>000/000892/000892376/dv/kplr000892376-005-2016...</td>\n",
       "      <td>0</td>\n",
       "      <td>892376</td>\n",
       "      <td>5</td>\n",
       "      <td>10</td>\n",
       "      <td>8.958</td>\n",
       "      <td>...</td>\n",
       "      <td>0</td>\n",
       "      <td>0</td>\n",
       "      <td>0</td>\n",
       "      <td>000892376-05</td>\n",
       "      <td>4.0</td>\n",
       "      <td>16</td>\n",
       "      <td>892376</td>\n",
       "      <td>2.0</td>\n",
       "      <td>4.0</td>\n",
       "      <td>10</td>\n",
       "    </tr>\n",
       "  </tbody>\n",
       "</table>\n",
       "<p>5 rows × 176 columns</p>\n",
       "</div>"
      ],
      "text/plain": [
       "            ra       dec    tce_delivname  \\\n",
       "0   291.701250  37.66675  q1_q17_dr25_tce   \n",
       "5   291.477371  37.62855  q1_q17_dr25_tce   \n",
       "11  291.063879  36.63581  q1_q17_dr25_tce   \n",
       "14  291.063879  36.63581  q1_q17_dr25_tce   \n",
       "16  291.063879  36.63581  q1_q17_dr25_tce   \n",
       "\n",
       "                                     tce_datalink_dvr  \\\n",
       "0   002/002304/002304168/dv/kplr002304168-20160209...   \n",
       "5   002/002303/002303102/dv/kplr002303102-20160209...   \n",
       "11  000/000892/000892376/dv/kplr000892376-20160209...   \n",
       "14  000/000892/000892376/dv/kplr000892376-20160209...   \n",
       "16  000/000892/000892376/dv/kplr000892376-20160209...   \n",
       "\n",
       "                                     tce_datalink_dvs  tce_nkoi  kepid_x  \\\n",
       "0   002/002304/002304168/dv/kplr002304168-002-2016...         0  2304168   \n",
       "5   002/002303/002303102/dv/kplr002303102-010-2016...         0  2303102   \n",
       "11  000/000892/000892376/dv/kplr000892376-001-2016...         0   892376   \n",
       "14  000/000892/000892376/dv/kplr000892376-004-2016...         0   892376   \n",
       "16  000/000892/000892376/dv/kplr000892376-005-2016...         0   892376   \n",
       "\n",
       "    tce_plnt_num  tce_num_transits  tce_max_sngle_ev   ...     tce_rb_tcount2  \\\n",
       "0              2                 4             9.305   ...                  0   \n",
       "5             10                 3             9.748   ...                  0   \n",
       "11             1                 3             9.917   ...                  0   \n",
       "14             4                 3            13.270   ...                  0   \n",
       "16             5                10             8.958   ...                  0   \n",
       "\n",
       "    tce_rb_tcount3  tce_rb_tcount4           tce  channel  idx  kepid_y  \\\n",
       "0                0               0  002304168-02      4.0    0  2304168   \n",
       "5                0               0  002303102-10      4.0    5  2303102   \n",
       "11               0               0  000892376-01      4.0   11   892376   \n",
       "14               0               0  000892376-04      4.0   14   892376   \n",
       "16               0               0  000892376-05      4.0   16   892376   \n",
       "\n",
       "    module  output  quarter  \n",
       "0      2.0     4.0       10  \n",
       "5      2.0     4.0       10  \n",
       "11     2.0     4.0       10  \n",
       "14     2.0     4.0       10  \n",
       "16     2.0     4.0       10  \n",
       "\n",
       "[5 rows x 176 columns]"
      ]
     },
     "execution_count": 39,
     "metadata": {},
     "output_type": "execute_result"
    }
   ],
   "source": [
    "print(len(q10))\n",
    "q10.head()"
   ]
  },
  {
   "cell_type": "code",
   "execution_count": 42,
   "metadata": {
    "collapsed": false
   },
   "outputs": [
    {
     "name": "stdout",
     "output_type": "stream",
     "text": [
      "12110\n"
     ]
    },
    {
     "data": {
      "text/plain": [
       "(array([ 181.,  188.,  239.,  168.,    0.,    0.,    0.,    0.,  201.,\n",
       "         207.,  295.,  177.,   80.,  173.,  144.,   89.,  171.,  353.,\n",
       "         212.,  140.,  223.,  189.,  168.,  176.,  210.,  633.,  181.,\n",
       "         170.,  145.,  139.,  156.,  182.,   73.,   80.,  116.,   79.,\n",
       "          94.,  139.,  168.,  136.,  263.,  108.,  257.,  263.,  185.,\n",
       "         250.,  185.,  172.,  128.,  137.,  154.,   95.,   61.,  104.,\n",
       "          54.,   74.,   98.,  232.,   86.,   70.,  138.,  100.,   88.,\n",
       "         112.,  173.,  309.,  139.,  142.,  146.,  114.,  134.,  118.,\n",
       "          72.,   80.,   58.,   68.,   78.,   47.,   95.,   70.,  106.,\n",
       "          96.,   57.,  119.]),\n",
       " array([  1.,   2.,   3.,   4.,   5.,   6.,   7.,   8.,   9.,  10.,  11.,\n",
       "         12.,  13.,  14.,  15.,  16.,  17.,  18.,  19.,  20.,  21.,  22.,\n",
       "         23.,  24.,  25.,  26.,  27.,  28.,  29.,  30.,  31.,  32.,  33.,\n",
       "         34.,  35.,  36.,  37.,  38.,  39.,  40.,  41.,  42.,  43.,  44.,\n",
       "         45.,  46.,  47.,  48.,  49.,  50.,  51.,  52.,  53.,  54.,  55.,\n",
       "         56.,  57.,  58.,  59.,  60.,  61.,  62.,  63.,  64.,  65.,  66.,\n",
       "         67.,  68.,  69.,  70.,  71.,  72.,  73.,  74.,  75.,  76.,  77.,\n",
       "         78.,  79.,  80.,  81.,  82.,  83.,  84.,  85.]),\n",
       " <a list of 84 Patch objects>)"
      ]
     },
     "execution_count": 42,
     "metadata": {},
     "output_type": "execute_result"
    },
    {
     "data": {
      "image/png": "[encoded data removed]",
      "text/plain": [
       "<matplotlib.figure.Figure at 0x7f1ff9868940>"
      ]
     },
     "metadata": {},
     "output_type": "display_data"
    }
   ],
   "source": [
    "mask = ~q10.channel.isnull()\n",
    "print(mask.sum())\n",
    "pl.hist(q10.channel[mask], bins=84, range=(1, 85))"
   ]
  },
  {
   "cell_type": "code",
   "execution_count": 52,
   "metadata": {
    "collapsed": false
   },
   "outputs": [],
   "source": [
    "q10['ptransit'] = 1 / q10.tce_period"
   ]
  },
  {
   "cell_type": "code",
   "execution_count": 60,
   "metadata": {
    "collapsed": false
   },
   "outputs": [
    {
     "data": {
      "text/plain": [
       "channel\n",
       "1.0     0.003475\n",
       "2.0     0.003700\n",
       "3.0     0.003838\n",
       "4.0     0.003588\n",
       "9.0     0.003833\n",
       "10.0    0.003739\n",
       "11.0    0.004028\n",
       "12.0    0.003737\n",
       "13.0    0.003457\n",
       "14.0    0.003166\n",
       "15.0    0.003452\n",
       "16.0    0.003294\n",
       "17.0    0.003243\n",
       "18.0    0.002871\n",
       "19.0    0.003109\n",
       "20.0    0.003398\n",
       "21.0    0.003988\n",
       "22.0    0.003089\n",
       "23.0    0.003617\n",
       "24.0    0.003281\n",
       "25.0    0.003462\n",
       "26.0    0.002774\n",
       "27.0    0.003704\n",
       "28.0    0.004043\n",
       "29.0    0.003843\n",
       "30.0    0.003309\n",
       "31.0    0.003987\n",
       "32.0    0.003962\n",
       "33.0    0.003377\n",
       "34.0    0.003594\n",
       "          ...   \n",
       "55.0    0.003648\n",
       "56.0    0.003172\n",
       "57.0    0.003187\n",
       "58.0    0.002638\n",
       "59.0    0.003455\n",
       "60.0    0.003085\n",
       "61.0    0.003243\n",
       "62.0    0.003318\n",
       "63.0    0.003393\n",
       "64.0    0.003704\n",
       "65.0    0.003180\n",
       "66.0    0.003032\n",
       "67.0    0.003370\n",
       "68.0    0.003038\n",
       "69.0    0.003159\n",
       "70.0    0.002988\n",
       "71.0    0.003384\n",
       "72.0    0.003900\n",
       "73.0    0.003488\n",
       "74.0    0.002757\n",
       "75.0    0.003208\n",
       "76.0    0.003913\n",
       "77.0    0.003872\n",
       "78.0    0.003987\n",
       "79.0    0.003865\n",
       "80.0    0.003279\n",
       "81.0    0.003033\n",
       "82.0    0.003383\n",
       "83.0    0.002682\n",
       "84.0    0.003305\n",
       "Name: ptransit, dtype: float64"
      ]
     },
     "execution_count": 60,
     "metadata": {},
     "output_type": "execute_result"
    }
   ],
   "source": [
    "by_channel = q10.groupby(by='channel')\n",
    "by_channel['ptransit'].mean()"
   ]
  },
  {
   "cell_type": "code",
   "execution_count": 62,
   "metadata": {
    "collapsed": false
   },
   "outputs": [
    {
     "data": {
      "text/plain": [
       "<matplotlib.collections.LineCollection at 0x7f1ff9593e10>"
      ]
     },
     "execution_count": 62,
     "metadata": {},
     "output_type": "execute_result"
    },
    {
     "data": {
      "image/png": "[encoded data removed]",
      "text/plain": [
       "<matplotlib.figure.Figure at 0x7f1ff91714a8>"
      ]
     },
     "metadata": {},
     "output_type": "display_data"
    }
   ],
   "source": [
    "from scipy.stats import binom\n",
    "n, p = 200, 0.003475\n",
    "x = np.arange(0, 6)\n",
    "pl.vlines(x + 0.5, 0, binom.pmf(x, n, p), lw=5, alpha=1, label='Binomial distribution')"
   ]
  },
  {
   "cell_type": "code",
   "execution_count": null,
   "metadata": {
    "collapsed": true
   },
   "outputs": [],
   "source": []
  }
 ],
 "metadata": {
  "kernelspec": {
   "display_name": "Python [Root]",
   "language": "python",
   "name": "Python [Root]"
  },
  "language_info": {
   "codemirror_mode": {
    "name": "ipython",
    "version": 3
   },
   "file_extension": ".py",
   "mimetype": "text/x-python",
   "name": "python",
   "nbconvert_exporter": "python",
   "pygments_lexer": "ipython3",
   "version": "3.5.2"
  }
 },
 "nbformat": 4,
 "nbformat_minor": 0
}
