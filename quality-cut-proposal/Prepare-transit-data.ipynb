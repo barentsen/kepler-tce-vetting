{
 "cells": [
  {
   "cell_type": "markdown",
   "metadata": {},
   "source": [
    "# Preparing an augmented table of TCE transits for quality vetting"
   ]
  },
  {
   "cell_type": "code",
   "execution_count": 14,
   "metadata": {
    "collapsed": true
   },
   "outputs": [],
   "source": [
    "%matplotlib inline\n",
    "import matplotlib.pyplot as pl\n",
    "from matplotlib import rcParams\n",
    "rcParams[\"savefig.dpi\"] = 100\n",
    "import seaborn as sns\n",
    "\n",
    "import numpy as np\n",
    "import pandas as pd\n",
    "import itertools\n",
    "from tqdm import tqdm"
   ]
  },
  {
   "cell_type": "markdown",
   "metadata": {},
   "source": [
    "## Step 1: load the TCE catalog"
   ]
  },
  {
   "cell_type": "markdown",
   "metadata": {},
   "source": [
    "Load the DR25 TCE table. You can obtain this file from NexSCI as follows:\n",
    "\n",
    "    wget -O q1_q17_dr25_tce.csv \"http://exoplanetarchive.ipac.caltech.edu/cgi-bin/nstedAPI/nph-nstedAPI?table=q1_q17_dr25_tce&select=*\"\n",
    "\n",
    "The columns in the TCE table are documented at:\n",
    "\n",
    "    http://exoplanetarchive.ipac.caltech.edu/docs/API_tce_columns.html"
   ]
  },
  {
   "cell_type": "code",
   "execution_count": 15,
   "metadata": {
    "collapsed": false
   },
   "outputs": [],
   "source": [
    "# Read the TCE table\n",
    "tcedf = pd.read_csv('../data/q1_q17_dr25_tce.csv')\n",
    "# Add the unique TCE ID used by the RoboVetter output:\n",
    "tcedf.loc[:, 'tce'] = ['{:09d}-{:02d}'.format(row.kepid, row.tce_plnt_num) for row in tcedf.itertuples()]"
   ]
  },
  {
   "cell_type": "markdown",
   "metadata": {},
   "source": [
    "## Step 2: Create a list of all transits for >100-day period TCEs"
   ]
  },
  {
   "cell_type": "markdown",
   "metadata": {},
   "source": [
    "We'll need a table of all the TCE transits.  Let's create a new dataframe containing one row per transit:"
   ]
  },
  {
   "cell_type": "code",
   "execution_count": 16,
   "metadata": {
    "collapsed": true
   },
   "outputs": [],
   "source": [
    "# A few useful constants\n",
    "KEPLER_BEGIN_BK, KEPLER_END_BK = 130, 1582"
   ]
  },
  {
   "cell_type": "code",
   "execution_count": 17,
   "metadata": {
    "collapsed": false
   },
   "outputs": [
    {
     "name": "stderr",
     "output_type": "stream",
     "text": [
      "12968it [00:00, 48114.86it/s]\n"
     ]
    }
   ],
   "source": [
    "mask = tcedf.tce_period > 100\n",
    "transitrows = []\n",
    "for mytce in tqdm(tcedf[mask].itertuples()):\n",
    "    mytime = mytce.tce_time0bk\n",
    "    while mytime < KEPLER_END_BK:\n",
    "        newrow = {'transit_time': mytime,\n",
    "                  'tce': mytce.tce,\n",
    "                  'kepid': mytce.kepid,\n",
    "                  'tce_plnt_num': mytce.tce_plnt_num,\n",
    "                  'tce_period': mytce.tce_period,\n",
    "                  'tce_max_mult_ev': mytce.tce_max_mult_ev}                  \n",
    "        transitrows.append(newrow)\n",
    "        mytime += mytce.tce_period\n",
    "transits = pd.DataFrame(transitrows)\n",
    "transits.to_hdf('all-long-period-tce-transits.h5', key='transits')"
   ]
  },
  {
   "cell_type": "code",
   "execution_count": 18,
   "metadata": {
    "collapsed": false
   },
   "outputs": [
    {
     "data": {
      "text/html": [
       "<div>\n",
       "<table border=\"1\" class=\"dataframe\">\n",
       "  <thead>\n",
       "    <tr style=\"text-align: right;\">\n",
       "      <th></th>\n",
       "      <th>kepid</th>\n",
       "      <th>tce</th>\n",
       "      <th>tce_max_mult_ev</th>\n",
       "      <th>tce_period</th>\n",
       "      <th>tce_plnt_num</th>\n",
       "      <th>transit_time</th>\n",
       "    </tr>\n",
       "  </thead>\n",
       "  <tbody>\n",
       "    <tr>\n",
       "      <th>0</th>\n",
       "      <td>2304168</td>\n",
       "      <td>002304168-02</td>\n",
       "      <td>12.22</td>\n",
       "      <td>431.719</td>\n",
       "      <td>2</td>\n",
       "      <td>219.298</td>\n",
       "    </tr>\n",
       "    <tr>\n",
       "      <th>1</th>\n",
       "      <td>2304168</td>\n",
       "      <td>002304168-02</td>\n",
       "      <td>12.22</td>\n",
       "      <td>431.719</td>\n",
       "      <td>2</td>\n",
       "      <td>651.017</td>\n",
       "    </tr>\n",
       "    <tr>\n",
       "      <th>2</th>\n",
       "      <td>2304168</td>\n",
       "      <td>002304168-02</td>\n",
       "      <td>12.22</td>\n",
       "      <td>431.719</td>\n",
       "      <td>2</td>\n",
       "      <td>1082.736</td>\n",
       "    </tr>\n",
       "    <tr>\n",
       "      <th>3</th>\n",
       "      <td>2304168</td>\n",
       "      <td>002304168-02</td>\n",
       "      <td>12.22</td>\n",
       "      <td>431.719</td>\n",
       "      <td>2</td>\n",
       "      <td>1514.455</td>\n",
       "    </tr>\n",
       "    <tr>\n",
       "      <th>4</th>\n",
       "      <td>2303102</td>\n",
       "      <td>002303102-10</td>\n",
       "      <td>11.51</td>\n",
       "      <td>480.481</td>\n",
       "      <td>10</td>\n",
       "      <td>161.570</td>\n",
       "    </tr>\n",
       "  </tbody>\n",
       "</table>\n",
       "</div>"
      ],
      "text/plain": [
       "     kepid           tce  tce_max_mult_ev  tce_period  tce_plnt_num  \\\n",
       "0  2304168  002304168-02            12.22     431.719             2   \n",
       "1  2304168  002304168-02            12.22     431.719             2   \n",
       "2  2304168  002304168-02            12.22     431.719             2   \n",
       "3  2304168  002304168-02            12.22     431.719             2   \n",
       "4  2303102  002303102-10            11.51     480.481            10   \n",
       "\n",
       "   transit_time  \n",
       "0       219.298  \n",
       "1       651.017  \n",
       "2      1082.736  \n",
       "3      1514.455  \n",
       "4       161.570  "
      ]
     },
     "execution_count": 18,
     "metadata": {},
     "output_type": "execute_result"
    }
   ],
   "source": [
    "transits.head()"
   ]
  },
  {
   "cell_type": "markdown",
   "metadata": {},
   "source": [
    "## Step 3: Add a `quarter` column"
   ]
  },
  {
   "cell_type": "code",
   "execution_count": 19,
   "metadata": {
    "collapsed": true
   },
   "outputs": [],
   "source": [
    "KEPLER_QUARTERS = pd.read_csv('../data/kepler-quarters.csv')\n",
    "\n",
    "def mjd2quarter(mjd):\n",
    "    mask = (KEPLER_QUARTERS.first_lc_mjd < mjd+0.01) & (KEPLER_QUARTERS.last_lc_mjd > mjd-0.01)\n",
    "    if mask.any():\n",
    "        return KEPLER_QUARTERS.loc[mask, 'quarter'].values[0]\n",
    "    return None\n",
    "\n",
    "def bkjd_to_mjd_approximate(bkjd):\n",
    "    \"\"\"Inexact conversion from Barycentric Kepler Julian Date (BKJD) to Modified Julian Date (MJD).\n",
    "    \n",
    "    Inexact because it ignores the TIMECORR and TIMSLICE corrections.\n",
    "    \"\"\"\n",
    "    return bkjd + 2454833 - 2400000.5\n",
    "\n",
    "def bkjd2quarter(bkjd):\n",
    "    return mjd2quarter(bkjd_to_mjd_approximate(bkjd))"
   ]
  },
  {
   "cell_type": "code",
   "execution_count": 21,
   "metadata": {
    "collapsed": false
   },
   "outputs": [
    {
     "name": "stderr",
     "output_type": "stream",
     "text": [
      "66047it [00:49, 1347.82it/s]\n"
     ]
    }
   ],
   "source": [
    "# Add a column detailing the quarter\n",
    "quarter_column = []\n",
    "for row in tqdm(transits.itertuples()):\n",
    "    quarter_column.append(mjd2quarter(bkjd_to_mjd_approximate(row.transit_time)))\n",
    "transits['quarter'] = quarter_column"
   ]
  },
  {
   "cell_type": "markdown",
   "metadata": {},
   "source": [
    "## Step 4: Add channel information"
   ]
  },
  {
   "cell_type": "code",
   "execution_count": 94,
   "metadata": {
    "collapsed": false
   },
   "outputs": [],
   "source": [
    "import requests\n",
    "\n",
    "def get_channel_module_output(kepler_id, transit_time):\n",
    "    quarter = mjd2quarter(bkjd_to_mjd_approximate(transit_time))\n",
    "    try:\n",
    "        q = int(quarter)\n",
    "    except Exception:\n",
    "        return None, None, None\n",
    "    max_records = np.random.randint(10000, 9990000)  # Hack to prevent MAST from throwing a stupid 'Max retries exceeded with url' error\n",
    "    url = ('http://archive.stsci.edu/kepler/data_search/search.php?'\n",
    "           'target={}&sci_data_quarter={}'\n",
    "           '&action=Search&outputformat=JSON'\n",
    "           '&max_records={}').format(int(kepler_id), int(quarter), max_records)\n",
    "    resp = requests.get(url)\n",
    "    if 'no rows found' in str(resp.content):\n",
    "        return None, None, None\n",
    "    else:\n",
    "        return int(resp.json()[0]['Channel']), int(resp.json()[0]['Module']), int(resp.json()[0]['Output'])\n",
    "\n",
    "def transit_to_channel_module_output(transit_idx):\n",
    "    mytransit = transits.ix[transit_idx]\n",
    "    ch, mod, out = get_channel_module_output(mytransit.kepid, mytransit.transit_time)\n",
    "    return {'idx': transit_idx,\n",
    "            'kepid': mytransit.kepid,\n",
    "            'transit_time': mytransit.transit_time,\n",
    "            'channel': ch,\n",
    "            'module': mod,\n",
    "            'output': out}"
   ]
  },
  {
   "cell_type": "code",
   "execution_count": 95,
   "metadata": {
    "collapsed": false
   },
   "outputs": [
    {
     "name": "stderr",
     "output_type": "stream",
     "text": [
      "\n",
      "\n",
      "\n",
      "\n",
      "\n",
      "\n",
      "\n"
     ]
    },
    {
     "data": {
      "text/plain": [
       "kepid                   2304168\n",
       "tce                002304168-02\n",
       "tce_max_mult_ev           12.22\n",
       "tce_period              431.719\n",
       "tce_plnt_num                  2\n",
       "transit_time            1514.46\n",
       "quarter                      16\n",
       "Name: 3, dtype: object"
      ]
     },
     "execution_count": 95,
     "metadata": {},
     "output_type": "execute_result"
    },
    {
     "name": "stderr",
     "output_type": "stream",
     "text": [
      "\n",
      "\n",
      "\n",
      "\n",
      "\n"
     ]
    }
   ],
   "source": [
    "transits.ix[3]"
   ]
  },
  {
   "cell_type": "code",
   "execution_count": 87,
   "metadata": {
    "collapsed": false
   },
   "outputs": [
    {
     "data": {
      "text/plain": [
       "{'channel': 84,\n",
       " 'idx': 3,\n",
       " 'kepid': 2304168,\n",
       " 'module': 24,\n",
       " 'output': 4,\n",
       " 'transit_time': 1514.4550000000002}"
      ]
     },
     "execution_count": 87,
     "metadata": {},
     "output_type": "execute_result"
    },
    {
     "name": "stderr",
     "output_type": "stream",
     "text": [
      "\n"
     ]
    }
   ],
   "source": [
    "transit_to_channel_module_output(3)"
   ]
  },
  {
   "cell_type": "code",
   "execution_count": 70,
   "metadata": {
    "collapsed": false
   },
   "outputs": [
    {
     "data": {
      "text/plain": [
       "[0, 1, 2, 3, 4, 5, 6, 7, 8, 9]"
      ]
     },
     "execution_count": 70,
     "metadata": {},
     "output_type": "execute_result"
    }
   ],
   "source": [
    "[idx for idx in transits.index[0:10]]"
   ]
  },
  {
   "cell_type": "code",
   "execution_count": 96,
   "metadata": {
    "collapsed": false
   },
   "outputs": [
    {
     "name": "stderr",
     "output_type": "stream",
     "text": [
      "\n",
      "\n",
      "\n",
      "\n",
      "\n",
      "\n",
      "\n",
      "  0%|          | 0/66047 [00:00<?, ?it/s]\n",
      "\n",
      "\n",
      "\n",
      "\n",
      "\n",
      "\n",
      "  2%|▏         | 1110/66047 [02:00<1:57:12,  9.23it/s]\n",
      "\n",
      "\n",
      "\n",
      "\n",
      "\n",
      "\n",
      "  4%|▎         | 2446/66047 [04:00<1:48:57,  9.73it/s]\n",
      "\n",
      "\n",
      "\n",
      "\n",
      "\n",
      "\n",
      "  6%|▌         | 3818/66047 [06:00<1:41:51, 10.18it/s]\n",
      "\n",
      "\n",
      "\n",
      "\n",
      "\n",
      "\n",
      "  8%|▊         | 5175/66047 [08:00<1:36:45, 10.49it/s]\n",
      "\n",
      "\n",
      "\n",
      "\n",
      "\n",
      "\n",
      " 10%|▉         | 6545/66047 [10:01<1:32:20, 10.74it/s]\n",
      "\n",
      "\n",
      "\n",
      "\n",
      "\n",
      "\n",
      " 12%|█▏        | 7901/66047 [12:01<1:28:54, 10.90it/s]\n",
      "\n",
      "\n",
      "\n",
      "\n",
      "\n",
      "\n",
      " 14%|█▍        | 9190/66047 [14:01<1:27:21, 10.85it/s]\n",
      "\n",
      "\n",
      "\n",
      "\n",
      "\n",
      "\n",
      " 16%|█▌        | 10413/66047 [16:01<1:27:09, 10.64it/s]\n",
      "\n",
      "\n",
      "\n",
      "\n",
      "\n",
      "\n",
      " 18%|█▊        | 11631/66047 [18:03<1:26:53, 10.44it/s]\n",
      "\n",
      "\n",
      "\n",
      "\n",
      "\n",
      "\n",
      " 20%|█▉        | 13095/66047 [20:03<1:20:54, 10.91it/s]\n",
      "\n",
      "\n",
      "\n",
      "\n",
      "\n",
      "\n",
      " 23%|██▎       | 15042/66047 [22:03<1:10:17, 12.09it/s]\n",
      "\n",
      "\n",
      "\n",
      "\n",
      "\n",
      "\n",
      " 26%|██▌       | 17028/66047 [24:03<1:02:07, 13.15it/s]\n",
      "\n",
      "\n",
      "\n",
      "\n",
      "\n",
      "\n",
      " 29%|██▉       | 19007/66047 [26:04<56:00, 14.00it/s]  \n",
      "\n",
      "\n",
      "\n",
      "\n",
      "\n",
      "\n",
      " 32%|███▏      | 21033/66047 [28:04<50:51, 14.75it/s]\n",
      "\n",
      "\n",
      "\n",
      "\n",
      "\n",
      "\n",
      " 35%|███▍      | 23019/66047 [30:04<47:01, 15.25it/s]\n",
      "\n",
      "\n",
      "\n",
      "\n",
      "\n",
      "\n",
      " 38%|███▊      | 25097/66047 [32:04<43:09, 15.81it/s]\n",
      "\n",
      "\n",
      "\n",
      "\n",
      "\n",
      "\n",
      " 41%|████      | 27125/66047 [34:04<40:16, 16.10it/s]\n",
      "\n",
      "\n",
      "\n",
      "\n",
      "\n",
      "\n",
      " 44%|████▍     | 29088/66047 [36:04<38:04, 16.18it/s]\n",
      "\n",
      "\n",
      "\n",
      "\n",
      "\n",
      "\n",
      " 47%|████▋     | 31137/66047 [38:04<35:23, 16.44it/s]\n",
      "\n",
      "\n",
      "\n",
      "\n",
      "\n",
      "\n",
      " 50%|█████     | 33124/66047 [40:05<33:19, 16.46it/s]\n",
      "\n",
      "\n",
      "\n",
      "\n",
      "\n",
      "\n",
      " 53%|█████▎    | 35110/66047 [42:10<31:43, 16.25it/s]\n",
      "\n",
      "\n",
      "\n",
      "\n",
      "\n",
      "\n",
      " 56%|█████▌    | 37069/66047 [44:11<29:43, 16.25it/s]\n",
      "\n",
      "\n",
      "\n",
      "\n",
      "\n",
      "\n",
      " 59%|█████▉    | 39025/66047 [46:12<27:44, 16.24it/s]\n",
      "\n",
      "\n",
      "\n",
      "\n",
      "\n",
      "\n",
      " 62%|██████▏   | 41013/66047 [48:12<25:32, 16.33it/s]\n",
      "\n",
      "\n",
      "\n",
      "\n",
      "\n",
      "\n",
      " 65%|██████▌   | 43052/66047 [50:12<23:11, 16.52it/s]\n",
      "\n",
      "\n",
      "\n",
      "\n",
      "\n",
      "\n",
      " 68%|██████▊   | 45037/66047 [52:14<21:16, 16.45it/s]\n",
      "\n",
      "\n",
      "\n",
      "\n",
      "\n",
      "\n",
      " 71%|███████   | 47014/66047 [54:14<19:17, 16.45it/s]\n",
      "\n",
      "\n",
      "\n",
      "\n",
      "\n",
      "\n",
      " 74%|███████▍  | 48990/66047 [56:22<17:38, 16.11it/s]\n",
      "\n",
      "\n",
      "\n",
      "\n",
      "\n",
      "\n",
      " 77%|███████▋  | 50927/66047 [58:25<15:43, 16.02it/s]\n",
      "\n",
      "\n",
      "\n",
      "\n",
      "\n",
      "\n",
      " 80%|████████  | 53030/66047 [1:00:25<13:11, 16.44it/s]\n",
      "\n",
      "\n",
      "\n",
      "\n",
      "\n",
      "\n",
      " 83%|████████▎ | 55055/66047 [1:02:25<11:03, 16.57it/s]\n",
      "\n",
      "\n",
      "\n",
      "\n",
      "\n",
      "\n",
      " 86%|████████▋ | 57086/66047 [1:04:25<08:57, 16.67it/s]\n",
      "\n",
      "\n",
      "\n",
      "\n",
      "\n",
      "\n",
      " 90%|████████▉ | 59180/66047 [1:06:25<06:46, 16.89it/s]\n",
      "\n",
      "\n",
      "\n",
      "\n",
      "\n",
      "\n",
      " 93%|█████████▎| 61210/66047 [1:08:27<04:47, 16.82it/s]\n",
      "\n",
      "\n",
      "\n",
      "\n",
      "\n",
      "\n",
      " 96%|█████████▌| 63278/66047 [1:10:27<02:43, 16.94it/s]\n",
      "\n",
      "\n",
      "\n",
      "\n",
      "\n",
      "\n",
      " 99%|█████████▉| 65404/66047 [1:12:27<00:37, 17.16it/s]\n",
      "\n",
      "\n",
      "\n",
      "\n",
      "\n",
      "\n",
      "100%|██████████| 66047/66047 [1:13:05<00:00, 15.06it/s]"
     ]
    }
   ],
   "source": [
    "import multiprocessing\n",
    "pool = multiprocessing.Pool(processes=15)\n",
    "results = []\n",
    "for result in tqdm(pool.imap(transit_to_channel_module_output, transits.index), total=len(transits), mininterval=120, maxinterval=240):\n",
    "    results.append(result)"
   ]
  },
  {
   "cell_type": "code",
   "execution_count": 97,
   "metadata": {
    "collapsed": false
   },
   "outputs": [
    {
     "data": {
      "text/html": [
       "<div>\n",
       "<table border=\"1\" class=\"dataframe\">\n",
       "  <thead>\n",
       "    <tr style=\"text-align: right;\">\n",
       "      <th></th>\n",
       "      <th>channel</th>\n",
       "      <th>idx</th>\n",
       "      <th>kepid</th>\n",
       "      <th>module</th>\n",
       "      <th>output</th>\n",
       "      <th>transit_time</th>\n",
       "    </tr>\n",
       "    <tr>\n",
       "      <th>idx</th>\n",
       "      <th></th>\n",
       "      <th></th>\n",
       "      <th></th>\n",
       "      <th></th>\n",
       "      <th></th>\n",
       "      <th></th>\n",
       "    </tr>\n",
       "  </thead>\n",
       "  <tbody>\n",
       "    <tr>\n",
       "      <th>0</th>\n",
       "      <td>4.0</td>\n",
       "      <td>0</td>\n",
       "      <td>2304168</td>\n",
       "      <td>2.0</td>\n",
       "      <td>4.0</td>\n",
       "      <td>219.298</td>\n",
       "    </tr>\n",
       "    <tr>\n",
       "      <th>1</th>\n",
       "      <td>56.0</td>\n",
       "      <td>1</td>\n",
       "      <td>2304168</td>\n",
       "      <td>16.0</td>\n",
       "      <td>4.0</td>\n",
       "      <td>651.017</td>\n",
       "    </tr>\n",
       "    <tr>\n",
       "      <th>2</th>\n",
       "      <td>56.0</td>\n",
       "      <td>2</td>\n",
       "      <td>2304168</td>\n",
       "      <td>16.0</td>\n",
       "      <td>4.0</td>\n",
       "      <td>1082.736</td>\n",
       "    </tr>\n",
       "    <tr>\n",
       "      <th>3</th>\n",
       "      <td>84.0</td>\n",
       "      <td>3</td>\n",
       "      <td>2304168</td>\n",
       "      <td>24.0</td>\n",
       "      <td>4.0</td>\n",
       "      <td>1514.455</td>\n",
       "    </tr>\n",
       "    <tr>\n",
       "      <th>4</th>\n",
       "      <td>32.0</td>\n",
       "      <td>4</td>\n",
       "      <td>2303102</td>\n",
       "      <td>10.0</td>\n",
       "      <td>4.0</td>\n",
       "      <td>161.570</td>\n",
       "    </tr>\n",
       "  </tbody>\n",
       "</table>\n",
       "</div>"
      ],
      "text/plain": [
       "     channel  idx    kepid  module  output  transit_time\n",
       "idx                                                     \n",
       "0        4.0    0  2304168     2.0     4.0       219.298\n",
       "1       56.0    1  2304168    16.0     4.0       651.017\n",
       "2       56.0    2  2304168    16.0     4.0      1082.736\n",
       "3       84.0    3  2304168    24.0     4.0      1514.455\n",
       "4       32.0    4  2303102    10.0     4.0       161.570"
      ]
     },
     "execution_count": 97,
     "metadata": {},
     "output_type": "execute_result"
    }
   ],
   "source": [
    "ccdinfo = pd.DataFrame(results)\n",
    "ccdinfo.index = ccdinfo['idx']\n",
    "ccdinfo.head()"
   ]
  },
  {
   "cell_type": "code",
   "execution_count": 98,
   "metadata": {
    "collapsed": false
   },
   "outputs": [],
   "source": [
    "transits_with_ccdinfo = transits.merge(ccdinfo, left_index=True, right_index=True)"
   ]
  },
  {
   "cell_type": "code",
   "execution_count": 99,
   "metadata": {
    "collapsed": false
   },
   "outputs": [
    {
     "data": {
      "text/plain": [
       "66047"
      ]
     },
     "execution_count": 99,
     "metadata": {},
     "output_type": "execute_result"
    }
   ],
   "source": [
    "len(transits_with_ccdinfo)"
   ]
  },
  {
   "cell_type": "code",
   "execution_count": 103,
   "metadata": {
    "collapsed": false
   },
   "outputs": [
    {
     "data": {
      "text/html": [
       "<div>\n",
       "<table border=\"1\" class=\"dataframe\">\n",
       "  <thead>\n",
       "    <tr style=\"text-align: right;\">\n",
       "      <th></th>\n",
       "      <th>kepid_x</th>\n",
       "      <th>tce</th>\n",
       "      <th>tce_max_mult_ev</th>\n",
       "      <th>tce_period</th>\n",
       "      <th>tce_plnt_num</th>\n",
       "      <th>transit_time_x</th>\n",
       "      <th>quarter</th>\n",
       "      <th>channel</th>\n",
       "      <th>idx</th>\n",
       "      <th>kepid_y</th>\n",
       "      <th>module</th>\n",
       "      <th>output</th>\n",
       "      <th>transit_time_y</th>\n",
       "    </tr>\n",
       "  </thead>\n",
       "  <tbody>\n",
       "    <tr>\n",
       "      <th>0</th>\n",
       "      <td>2304168</td>\n",
       "      <td>002304168-02</td>\n",
       "      <td>12.22</td>\n",
       "      <td>431.719</td>\n",
       "      <td>2</td>\n",
       "      <td>219.298</td>\n",
       "      <td>2.0</td>\n",
       "      <td>4.0</td>\n",
       "      <td>0</td>\n",
       "      <td>2304168</td>\n",
       "      <td>2.0</td>\n",
       "      <td>4.0</td>\n",
       "      <td>219.298</td>\n",
       "    </tr>\n",
       "    <tr>\n",
       "      <th>1</th>\n",
       "      <td>2304168</td>\n",
       "      <td>002304168-02</td>\n",
       "      <td>12.22</td>\n",
       "      <td>431.719</td>\n",
       "      <td>2</td>\n",
       "      <td>651.017</td>\n",
       "      <td>7.0</td>\n",
       "      <td>56.0</td>\n",
       "      <td>1</td>\n",
       "      <td>2304168</td>\n",
       "      <td>16.0</td>\n",
       "      <td>4.0</td>\n",
       "      <td>651.017</td>\n",
       "    </tr>\n",
       "    <tr>\n",
       "      <th>2</th>\n",
       "      <td>2304168</td>\n",
       "      <td>002304168-02</td>\n",
       "      <td>12.22</td>\n",
       "      <td>431.719</td>\n",
       "      <td>2</td>\n",
       "      <td>1082.736</td>\n",
       "      <td>11.0</td>\n",
       "      <td>56.0</td>\n",
       "      <td>2</td>\n",
       "      <td>2304168</td>\n",
       "      <td>16.0</td>\n",
       "      <td>4.0</td>\n",
       "      <td>1082.736</td>\n",
       "    </tr>\n",
       "    <tr>\n",
       "      <th>3</th>\n",
       "      <td>2304168</td>\n",
       "      <td>002304168-02</td>\n",
       "      <td>12.22</td>\n",
       "      <td>431.719</td>\n",
       "      <td>2</td>\n",
       "      <td>1514.455</td>\n",
       "      <td>16.0</td>\n",
       "      <td>84.0</td>\n",
       "      <td>3</td>\n",
       "      <td>2304168</td>\n",
       "      <td>24.0</td>\n",
       "      <td>4.0</td>\n",
       "      <td>1514.455</td>\n",
       "    </tr>\n",
       "    <tr>\n",
       "      <th>4</th>\n",
       "      <td>2303102</td>\n",
       "      <td>002303102-10</td>\n",
       "      <td>11.51</td>\n",
       "      <td>480.481</td>\n",
       "      <td>10</td>\n",
       "      <td>161.570</td>\n",
       "      <td>1.0</td>\n",
       "      <td>32.0</td>\n",
       "      <td>4</td>\n",
       "      <td>2303102</td>\n",
       "      <td>10.0</td>\n",
       "      <td>4.0</td>\n",
       "      <td>161.570</td>\n",
       "    </tr>\n",
       "  </tbody>\n",
       "</table>\n",
       "</div>"
      ],
      "text/plain": [
       "   kepid_x           tce  tce_max_mult_ev  tce_period  tce_plnt_num  \\\n",
       "0  2304168  002304168-02            12.22     431.719             2   \n",
       "1  2304168  002304168-02            12.22     431.719             2   \n",
       "2  2304168  002304168-02            12.22     431.719             2   \n",
       "3  2304168  002304168-02            12.22     431.719             2   \n",
       "4  2303102  002303102-10            11.51     480.481            10   \n",
       "\n",
       "   transit_time_x  quarter  channel  idx  kepid_y  module  output  \\\n",
       "0         219.298      2.0      4.0    0  2304168     2.0     4.0   \n",
       "1         651.017      7.0     56.0    1  2304168    16.0     4.0   \n",
       "2        1082.736     11.0     56.0    2  2304168    16.0     4.0   \n",
       "3        1514.455     16.0     84.0    3  2304168    24.0     4.0   \n",
       "4         161.570      1.0     32.0    4  2303102    10.0     4.0   \n",
       "\n",
       "   transit_time_y  \n",
       "0         219.298  \n",
       "1         651.017  \n",
       "2        1082.736  \n",
       "3        1514.455  \n",
       "4         161.570  "
      ]
     },
     "execution_count": 103,
     "metadata": {},
     "output_type": "execute_result"
    }
   ],
   "source": [
    "transits_with_ccdinfo.head()"
   ]
  },
  {
   "cell_type": "code",
   "execution_count": 101,
   "metadata": {
    "collapsed": true
   },
   "outputs": [],
   "source": [
    "transits_with_ccdinfo.to_hdf('all-long-period-tce-transits-with-ccd-info.h5', key='transits')"
   ]
  },
  {
   "cell_type": "code",
   "execution_count": null,
   "metadata": {
    "collapsed": true
   },
   "outputs": [],
   "source": []
  }
 ],
 "metadata": {
  "anaconda-cloud": {},
  "kernelspec": {
   "display_name": "Python [Root]",
   "language": "python",
   "name": "Python [Root]"
  },
  "language_info": {
   "codemirror_mode": {
    "name": "ipython",
    "version": 3
   },
   "file_extension": ".py",
   "mimetype": "text/x-python",
   "name": "python",
   "nbconvert_exporter": "python",
   "pygments_lexer": "ipython3",
   "version": "3.5.2"
  }
 },
 "nbformat": 4,
 "nbformat_minor": 0
}
