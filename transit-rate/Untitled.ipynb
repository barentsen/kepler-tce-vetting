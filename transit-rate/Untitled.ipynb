{
 "cells": [
  {
   "cell_type": "code",
   "execution_count": 1,
   "metadata": {
    "collapsed": true
   },
   "outputs": [],
   "source": [
    "%matplotlib inline\n",
    "import matplotlib.pyplot as pl\n",
    "from matplotlib import rcParams\n",
    "rcParams[\"savefig.dpi\"] = 100\n",
    "import seaborn as sns\n",
    "\n",
    "import numpy as np\n",
    "import pandas as pd\n",
    "from tqdm import tqdm"
   ]
  },
  {
   "cell_type": "code",
   "execution_count": 4,
   "metadata": {
    "collapsed": false
   },
   "outputs": [
    {
     "data": {
      "text/html": [
       "<div>\n",
       "<table border=\"1\" class=\"dataframe\">\n",
       "  <thead>\n",
       "    <tr style=\"text-align: right;\">\n",
       "      <th></th>\n",
       "      <th>kepid_x</th>\n",
       "      <th>tce</th>\n",
       "      <th>tce_max_mult_ev</th>\n",
       "      <th>tce_period</th>\n",
       "      <th>tce_plnt_num</th>\n",
       "      <th>transit_time_x</th>\n",
       "      <th>quarter</th>\n",
       "      <th>season</th>\n",
       "      <th>channel</th>\n",
       "      <th>idx</th>\n",
       "      <th>kepid_y</th>\n",
       "      <th>module</th>\n",
       "      <th>output</th>\n",
       "      <th>skygroup</th>\n",
       "      <th>transit_time_y</th>\n",
       "    </tr>\n",
       "  </thead>\n",
       "  <tbody>\n",
       "    <tr>\n",
       "      <th>0</th>\n",
       "      <td>2304168</td>\n",
       "      <td>002304168-02</td>\n",
       "      <td>12.22</td>\n",
       "      <td>431.719</td>\n",
       "      <td>2</td>\n",
       "      <td>219.298</td>\n",
       "      <td>2</td>\n",
       "      <td>0</td>\n",
       "      <td>4</td>\n",
       "      <td>0</td>\n",
       "      <td>2304168</td>\n",
       "      <td>2</td>\n",
       "      <td>4</td>\n",
       "      <td>84</td>\n",
       "      <td>219.298</td>\n",
       "    </tr>\n",
       "    <tr>\n",
       "      <th>1</th>\n",
       "      <td>2304168</td>\n",
       "      <td>002304168-02</td>\n",
       "      <td>12.22</td>\n",
       "      <td>431.719</td>\n",
       "      <td>2</td>\n",
       "      <td>651.017</td>\n",
       "      <td>7</td>\n",
       "      <td>1</td>\n",
       "      <td>56</td>\n",
       "      <td>1</td>\n",
       "      <td>2304168</td>\n",
       "      <td>16</td>\n",
       "      <td>4</td>\n",
       "      <td>84</td>\n",
       "      <td>651.017</td>\n",
       "    </tr>\n",
       "    <tr>\n",
       "      <th>2</th>\n",
       "      <td>2304168</td>\n",
       "      <td>002304168-02</td>\n",
       "      <td>12.22</td>\n",
       "      <td>431.719</td>\n",
       "      <td>2</td>\n",
       "      <td>1082.736</td>\n",
       "      <td>11</td>\n",
       "      <td>1</td>\n",
       "      <td>56</td>\n",
       "      <td>2</td>\n",
       "      <td>2304168</td>\n",
       "      <td>16</td>\n",
       "      <td>4</td>\n",
       "      <td>84</td>\n",
       "      <td>1082.736</td>\n",
       "    </tr>\n",
       "    <tr>\n",
       "      <th>3</th>\n",
       "      <td>2304168</td>\n",
       "      <td>002304168-02</td>\n",
       "      <td>12.22</td>\n",
       "      <td>431.719</td>\n",
       "      <td>2</td>\n",
       "      <td>1514.455</td>\n",
       "      <td>16</td>\n",
       "      <td>2</td>\n",
       "      <td>84</td>\n",
       "      <td>3</td>\n",
       "      <td>2304168</td>\n",
       "      <td>24</td>\n",
       "      <td>4</td>\n",
       "      <td>84</td>\n",
       "      <td>1514.455</td>\n",
       "    </tr>\n",
       "    <tr>\n",
       "      <th>4</th>\n",
       "      <td>2303102</td>\n",
       "      <td>002303102-10</td>\n",
       "      <td>11.51</td>\n",
       "      <td>480.481</td>\n",
       "      <td>10</td>\n",
       "      <td>161.570</td>\n",
       "      <td>1</td>\n",
       "      <td>3</td>\n",
       "      <td>32</td>\n",
       "      <td>4</td>\n",
       "      <td>2303102</td>\n",
       "      <td>10</td>\n",
       "      <td>4</td>\n",
       "      <td>84</td>\n",
       "      <td>161.570</td>\n",
       "    </tr>\n",
       "  </tbody>\n",
       "</table>\n",
       "</div>"
      ],
      "text/plain": [
       "   kepid_x           tce  tce_max_mult_ev  tce_period  tce_plnt_num  \\\n",
       "0  2304168  002304168-02            12.22     431.719             2   \n",
       "1  2304168  002304168-02            12.22     431.719             2   \n",
       "2  2304168  002304168-02            12.22     431.719             2   \n",
       "3  2304168  002304168-02            12.22     431.719             2   \n",
       "4  2303102  002303102-10            11.51     480.481            10   \n",
       "\n",
       "   transit_time_x  quarter  season  channel  idx  kepid_y  module  output  \\\n",
       "0         219.298        2       0        4    0  2304168       2       4   \n",
       "1         651.017        7       1       56    1  2304168      16       4   \n",
       "2        1082.736       11       1       56    2  2304168      16       4   \n",
       "3        1514.455       16       2       84    3  2304168      24       4   \n",
       "4         161.570        1       3       32    4  2303102      10       4   \n",
       "\n",
       "   skygroup  transit_time_y  \n",
       "0        84         219.298  \n",
       "1        84         651.017  \n",
       "2        84        1082.736  \n",
       "3        84        1514.455  \n",
       "4        84         161.570  "
      ]
     },
     "execution_count": 4,
     "metadata": {},
     "output_type": "execute_result"
    }
   ],
   "source": [
    "transits = pd.read_hdf('observed-long-period-transits.h5', key='transits')\n",
    "transits.head()"
   ]
  },
  {
   "cell_type": "code",
   "execution_count": 7,
   "metadata": {
    "collapsed": false
   },
   "outputs": [
    {
     "name": "stderr",
     "output_type": "stream",
     "text": [
      "\r",
      "0it [00:00, ?it/s]"
     ]
    },
    {
     "ename": "NameError",
     "evalue": "name 'KEPLER_BEGIN_BK' is not defined",
     "output_type": "error",
     "traceback": [
      "\u001b[1;31m---------------------------------------------------------------------------\u001b[0m",
      "\u001b[1;31mNameError\u001b[0m                                 Traceback (most recent call last)",
      "\u001b[1;32m<ipython-input-7-851507120503>\u001b[0m in \u001b[0;36m<module>\u001b[1;34m()\u001b[0m\n\u001b[0;32m      6\u001b[0m     \u001b[0mpl\u001b[0m\u001b[1;33m.\u001b[0m\u001b[0msubplot\u001b[0m\u001b[1;33m(\u001b[0m\u001b[0mlen\u001b[0m\u001b[1;33m(\u001b[0m\u001b[0mboundaries\u001b[0m\u001b[1;33m)\u001b[0m\u001b[1;33m,\u001b[0m \u001b[1;36m1\u001b[0m\u001b[1;33m,\u001b[0m \u001b[0midx\u001b[0m\u001b[1;33m+\u001b[0m\u001b[1;36m1\u001b[0m\u001b[1;33m)\u001b[0m\u001b[1;33m\u001b[0m\u001b[0m\n\u001b[0;32m      7\u001b[0m     _ = pl.hist(transits.transit_time_x[mask],\n\u001b[1;32m----> 8\u001b[1;33m                 \u001b[0mrange\u001b[0m\u001b[1;33m=\u001b[0m\u001b[1;33m(\u001b[0m\u001b[0mKEPLER_BEGIN_BK\u001b[0m\u001b[1;33m,\u001b[0m \u001b[0mKEPLER_END_BK\u001b[0m\u001b[1;33m)\u001b[0m\u001b[1;33m,\u001b[0m\u001b[1;33m\u001b[0m\u001b[0m\n\u001b[0m\u001b[0;32m      9\u001b[0m                 bins=(KEPLER_END_BK - KEPLER_BEGIN_BK))  # 1 bin per day\n\u001b[0;32m     10\u001b[0m     \u001b[0mpl\u001b[0m\u001b[1;33m.\u001b[0m\u001b[0mxlim\u001b[0m\u001b[1;33m(\u001b[0m\u001b[1;33m[\u001b[0m\u001b[0mKEPLER_BEGIN_BK\u001b[0m\u001b[1;33m,\u001b[0m \u001b[0mKEPLER_END_BK\u001b[0m\u001b[1;33m]\u001b[0m\u001b[1;33m)\u001b[0m\u001b[1;33m\u001b[0m\u001b[0m\n",
      "\u001b[1;31mNameError\u001b[0m: name 'KEPLER_BEGIN_BK' is not defined"
     ]
    },
    {
     "data": {
      "image/png": "[encoded data removed]",
      "text/plain": [
       "<matplotlib.figure.Figure at 0x7fcfc9ff17b8>"
      ]
     },
     "metadata": {},
     "output_type": "display_data"
    }
   ],
   "source": [
    "stepsize = 50\n",
    "boundaries = range(50, 750, stepsize)\n",
    "pl.figure(figsize=(10, 25))\n",
    "for idx, bound in tqdm(enumerate(boundaries)):\n",
    "    mask = (transits.tce_period >= bound) & (transits.tce_period < bound + stepsize)\n",
    "    pl.subplot(len(boundaries), 1, idx+1)\n",
    "    _ = pl.hist(transits.transit_time_x[mask],\n",
    "                range=(KEPLER_BEGIN_BK, KEPLER_END_BK),\n",
    "                bins=(KEPLER_END_BK - KEPLER_BEGIN_BK))  # 1 bin per day\n",
    "    pl.xlim([KEPLER_BEGIN_BK, KEPLER_END_BK])\n",
    "    pl.ylim([0, 110])\n",
    "    pl.yticks(range(0, 101, 25))\n",
    "    pl.text(190, 90, 'tce_period = [{}, {}['.format(bound, bound+stepsize))\n",
    "    pl.ylabel('Transits per day')\n",
    "pl.xlabel('Time BK')"
   ]
  },
  {
   "cell_type": "code",
   "execution_count": null,
   "metadata": {
    "collapsed": true
   },
   "outputs": [],
   "source": []
  }
 ],
 "metadata": {
  "kernelspec": {
   "display_name": "Python 3",
   "language": "python",
   "name": "python3"
  },
  "language_info": {
   "codemirror_mode": {
    "name": "ipython",
    "version": 3
   },
   "file_extension": ".py",
   "mimetype": "text/x-python",
   "name": "python",
   "nbconvert_exporter": "python",
   "pygments_lexer": "ipython3",
   "version": "3.5.2"
  }
 },
 "nbformat": 4,
 "nbformat_minor": 0
}
