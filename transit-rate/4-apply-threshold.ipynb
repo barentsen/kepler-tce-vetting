{
 "cells": [
  {
   "cell_type": "code",
   "execution_count": 890,
   "metadata": {
    "collapsed": true
   },
   "outputs": [],
   "source": [
    "%matplotlib inline\n",
    "import matplotlib.pyplot as pl\n",
    "from matplotlib import rcParams\n",
    "rcParams[\"savefig.dpi\"] = 100\n",
    "import seaborn as sns\n",
    "\n",
    "import numpy as np\n",
    "import pandas as pd\n",
    "from tqdm import tqdm\n",
    "\n",
    "# A few useful constants\n",
    "KEPLER_BEGIN_BK, KEPLER_END_BK = 130, 1582"
   ]
  },
  {
   "cell_type": "code",
   "execution_count": 891,
   "metadata": {
    "collapsed": true
   },
   "outputs": [],
   "source": [
    "transits = pd.read_hdf('observed-long-period-transits.h5', key='transits')\n",
    "transits = transits[transits.tce_max_mult_ev < 20]\n",
    "thresholds = pd.read_hdf('transit-rate-by-skygroup-with-threshold.h5', key='rate')"
   ]
  },
  {
   "cell_type": "code",
   "execution_count": 892,
   "metadata": {
    "collapsed": false
   },
   "outputs": [
    {
     "data": {
      "text/html": [
       "<div>\n",
       "<table border=\"1\" class=\"dataframe\">\n",
       "  <thead>\n",
       "    <tr style=\"text-align: right;\">\n",
       "      <th></th>\n",
       "      <th>kepid_x</th>\n",
       "      <th>tce</th>\n",
       "      <th>tce_max_mult_ev</th>\n",
       "      <th>tce_period</th>\n",
       "      <th>tce_plnt_num</th>\n",
       "      <th>transit_time_x</th>\n",
       "      <th>quarter</th>\n",
       "      <th>season</th>\n",
       "      <th>channel</th>\n",
       "      <th>idx</th>\n",
       "      <th>kepid_y</th>\n",
       "      <th>module</th>\n",
       "      <th>output</th>\n",
       "      <th>skygroup</th>\n",
       "      <th>transit_time_y</th>\n",
       "      <th>transit_day</th>\n",
       "      <th>transit_day_half</th>\n",
       "      <th>transit_day_double</th>\n",
       "    </tr>\n",
       "  </thead>\n",
       "  <tbody>\n",
       "    <tr>\n",
       "      <th>0</th>\n",
       "      <td>2304168</td>\n",
       "      <td>002304168-02</td>\n",
       "      <td>12.22</td>\n",
       "      <td>431.719</td>\n",
       "      <td>2</td>\n",
       "      <td>219.298</td>\n",
       "      <td>2</td>\n",
       "      <td>0</td>\n",
       "      <td>4</td>\n",
       "      <td>0</td>\n",
       "      <td>2304168</td>\n",
       "      <td>2</td>\n",
       "      <td>4</td>\n",
       "      <td>84</td>\n",
       "      <td>219.298</td>\n",
       "      <td>219</td>\n",
       "      <td>219.0</td>\n",
       "      <td>218</td>\n",
       "    </tr>\n",
       "    <tr>\n",
       "      <th>1</th>\n",
       "      <td>2304168</td>\n",
       "      <td>002304168-02</td>\n",
       "      <td>12.22</td>\n",
       "      <td>431.719</td>\n",
       "      <td>2</td>\n",
       "      <td>651.017</td>\n",
       "      <td>7</td>\n",
       "      <td>1</td>\n",
       "      <td>56</td>\n",
       "      <td>1</td>\n",
       "      <td>2304168</td>\n",
       "      <td>16</td>\n",
       "      <td>4</td>\n",
       "      <td>84</td>\n",
       "      <td>651.017</td>\n",
       "      <td>651</td>\n",
       "      <td>651.0</td>\n",
       "      <td>650</td>\n",
       "    </tr>\n",
       "    <tr>\n",
       "      <th>2</th>\n",
       "      <td>2304168</td>\n",
       "      <td>002304168-02</td>\n",
       "      <td>12.22</td>\n",
       "      <td>431.719</td>\n",
       "      <td>2</td>\n",
       "      <td>1082.736</td>\n",
       "      <td>11</td>\n",
       "      <td>1</td>\n",
       "      <td>56</td>\n",
       "      <td>2</td>\n",
       "      <td>2304168</td>\n",
       "      <td>16</td>\n",
       "      <td>4</td>\n",
       "      <td>84</td>\n",
       "      <td>1082.736</td>\n",
       "      <td>1082</td>\n",
       "      <td>1082.5</td>\n",
       "      <td>1082</td>\n",
       "    </tr>\n",
       "    <tr>\n",
       "      <th>3</th>\n",
       "      <td>2304168</td>\n",
       "      <td>002304168-02</td>\n",
       "      <td>12.22</td>\n",
       "      <td>431.719</td>\n",
       "      <td>2</td>\n",
       "      <td>1514.455</td>\n",
       "      <td>16</td>\n",
       "      <td>2</td>\n",
       "      <td>84</td>\n",
       "      <td>3</td>\n",
       "      <td>2304168</td>\n",
       "      <td>24</td>\n",
       "      <td>4</td>\n",
       "      <td>84</td>\n",
       "      <td>1514.455</td>\n",
       "      <td>1514</td>\n",
       "      <td>1514.0</td>\n",
       "      <td>1514</td>\n",
       "    </tr>\n",
       "    <tr>\n",
       "      <th>4</th>\n",
       "      <td>2303102</td>\n",
       "      <td>002303102-10</td>\n",
       "      <td>11.51</td>\n",
       "      <td>480.481</td>\n",
       "      <td>10</td>\n",
       "      <td>161.570</td>\n",
       "      <td>1</td>\n",
       "      <td>3</td>\n",
       "      <td>32</td>\n",
       "      <td>4</td>\n",
       "      <td>2303102</td>\n",
       "      <td>10</td>\n",
       "      <td>4</td>\n",
       "      <td>84</td>\n",
       "      <td>161.570</td>\n",
       "      <td>161</td>\n",
       "      <td>161.5</td>\n",
       "      <td>160</td>\n",
       "    </tr>\n",
       "  </tbody>\n",
       "</table>\n",
       "</div>"
      ],
      "text/plain": [
       "   kepid_x           tce  tce_max_mult_ev  tce_period  tce_plnt_num  \\\n",
       "0  2304168  002304168-02            12.22     431.719             2   \n",
       "1  2304168  002304168-02            12.22     431.719             2   \n",
       "2  2304168  002304168-02            12.22     431.719             2   \n",
       "3  2304168  002304168-02            12.22     431.719             2   \n",
       "4  2303102  002303102-10            11.51     480.481            10   \n",
       "\n",
       "   transit_time_x  quarter  season  channel  idx  kepid_y  module  output  \\\n",
       "0         219.298        2       0        4    0  2304168       2       4   \n",
       "1         651.017        7       1       56    1  2304168      16       4   \n",
       "2        1082.736       11       1       56    2  2304168      16       4   \n",
       "3        1514.455       16       2       84    3  2304168      24       4   \n",
       "4         161.570        1       3       32    4  2303102      10       4   \n",
       "\n",
       "   skygroup  transit_time_y  transit_day  transit_day_half  transit_day_double  \n",
       "0        84         219.298          219             219.0                 218  \n",
       "1        84         651.017          651             651.0                 650  \n",
       "2        84        1082.736         1082            1082.5                1082  \n",
       "3        84        1514.455         1514            1514.0                1514  \n",
       "4        84         161.570          161             161.5                 160  "
      ]
     },
     "execution_count": 892,
     "metadata": {},
     "output_type": "execute_result"
    }
   ],
   "source": [
    "transits['transit_day'] = np.floor(transits.transit_time_x).astype('int')\n",
    "transits['transit_day_half'] = 0.5 * np.floor(transits.transit_time_x * 2)\n",
    "transits['transit_day_double'] = (2 * np.floor(transits.transit_time_x * 0.5)).astype('int')\n",
    "transits.head()"
   ]
  },
  {
   "cell_type": "code",
   "execution_count": 939,
   "metadata": {
    "collapsed": false
   },
   "outputs": [],
   "source": [
    "BIN_BY = 'transit_day_double'\n",
    "transit_rate_groupby = transits.groupby([BIN_BY, 'skygroup', 'season'])\n",
    "transit_rate = pd.DataFrame(transit_rate_groupby.size(), columns=['transit_rate_observed'])\n",
    "transit_rate['channel'] = transit_rate_groupby.first().channel\n",
    "transit_rate['quarter'] = transit_rate_groupby.first().quarter\n",
    "assert((transit_rate_groupby.first().channel == transit_rate_groupby.mean().channel).all())\n",
    "assert((transit_rate_groupby.first().quarter == transit_rate_groupby.mean().quarter).all())"
   ]
  },
  {
   "cell_type": "code",
   "execution_count": 940,
   "metadata": {
    "collapsed": false
   },
   "outputs": [],
   "source": [
    "threshold_col = []\n",
    "for day, skygroup, season in transit_rate.index:\n",
    "    threshold_col.append(thresholds.ix[skygroup, season].transit_rate_threshold)\n",
    "transit_rate['transit_rate_threshold'] = threshold_col"
   ]
  },
  {
   "cell_type": "code",
   "execution_count": 941,
   "metadata": {
    "collapsed": false
   },
   "outputs": [
    {
     "data": {
      "text/html": [
       "<div>\n",
       "<table border=\"1\" class=\"dataframe\">\n",
       "  <thead>\n",
       "    <tr style=\"text-align: right;\">\n",
       "      <th></th>\n",
       "      <th></th>\n",
       "      <th></th>\n",
       "      <th>transit_rate_observed</th>\n",
       "      <th>channel</th>\n",
       "      <th>quarter</th>\n",
       "      <th>transit_rate_threshold</th>\n",
       "    </tr>\n",
       "    <tr>\n",
       "      <th>transit_day_double</th>\n",
       "      <th>skygroup</th>\n",
       "      <th>season</th>\n",
       "      <th></th>\n",
       "      <th></th>\n",
       "      <th></th>\n",
       "      <th></th>\n",
       "    </tr>\n",
       "  </thead>\n",
       "  <tbody>\n",
       "    <tr>\n",
       "      <th rowspan=\"5\" valign=\"top\">130</th>\n",
       "      <th>4</th>\n",
       "      <th>3</th>\n",
       "      <td>1</td>\n",
       "      <td>56</td>\n",
       "      <td>1</td>\n",
       "      <td>4.0</td>\n",
       "    </tr>\n",
       "    <tr>\n",
       "      <th>25</th>\n",
       "      <th>3</th>\n",
       "      <td>1</td>\n",
       "      <td>17</td>\n",
       "      <td>1</td>\n",
       "      <td>4.0</td>\n",
       "    </tr>\n",
       "    <tr>\n",
       "      <th>37</th>\n",
       "      <th>3</th>\n",
       "      <td>1</td>\n",
       "      <td>61</td>\n",
       "      <td>1</td>\n",
       "      <td>5.0</td>\n",
       "    </tr>\n",
       "    <tr>\n",
       "      <th>59</th>\n",
       "      <th>3</th>\n",
       "      <td>1</td>\n",
       "      <td>67</td>\n",
       "      <td>1</td>\n",
       "      <td>5.0</td>\n",
       "    </tr>\n",
       "    <tr>\n",
       "      <th>71</th>\n",
       "      <th>3</th>\n",
       "      <td>1</td>\n",
       "      <td>11</td>\n",
       "      <td>1</td>\n",
       "      <td>4.0</td>\n",
       "    </tr>\n",
       "  </tbody>\n",
       "</table>\n",
       "</div>"
      ],
      "text/plain": [
       "                                    transit_rate_observed  channel  quarter  \\\n",
       "transit_day_double skygroup season                                            \n",
       "130                4        3                           1       56        1   \n",
       "                   25       3                           1       17        1   \n",
       "                   37       3                           1       61        1   \n",
       "                   59       3                           1       67        1   \n",
       "                   71       3                           1       11        1   \n",
       "\n",
       "                                    transit_rate_threshold  \n",
       "transit_day_double skygroup season                          \n",
       "130                4        3                          4.0  \n",
       "                   25       3                          4.0  \n",
       "                   37       3                          5.0  \n",
       "                   59       3                          5.0  \n",
       "                   71       3                          4.0  "
      ]
     },
     "execution_count": 941,
     "metadata": {},
     "output_type": "execute_result"
    }
   ],
   "source": [
    "transit_rate.head()"
   ]
  },
  {
   "cell_type": "code",
   "execution_count": 942,
   "metadata": {
    "collapsed": false
   },
   "outputs": [
    {
     "data": {
      "text/plain": [
       "<matplotlib.axes._subplots.AxesSubplot at 0x7f62a0474860>"
      ]
     },
     "execution_count": 942,
     "metadata": {},
     "output_type": "execute_result"
    },
    {
     "data": {
      "image/png": "[encoded data removed]",
      "text/plain": [
       "<matplotlib.figure.Figure at 0x7f62a0474630>"
      ]
     },
     "metadata": {},
     "output_type": "display_data"
    }
   ],
   "source": [
    "transit_rate.transit_rate_observed.hist(bins=10, range=(0,10))"
   ]
  },
  {
   "cell_type": "code",
   "execution_count": 948,
   "metadata": {
    "collapsed": false
   },
   "outputs": [
    {
     "data": {
      "text/plain": [
       "111"
      ]
     },
     "execution_count": 948,
     "metadata": {},
     "output_type": "execute_result"
    }
   ],
   "source": [
    "mask_bad_data = transit_rate.transit_rate_observed >= 2*transit_rate.transit_rate_threshold\n",
    "mask_bad_data.sum()"
   ]
  },
  {
   "cell_type": "code",
   "execution_count": 949,
   "metadata": {
    "collapsed": false
   },
   "outputs": [
    {
     "data": {
      "text/html": [
       "<div>\n",
       "<table border=\"1\" class=\"dataframe\">\n",
       "  <thead>\n",
       "    <tr style=\"text-align: right;\">\n",
       "      <th></th>\n",
       "      <th></th>\n",
       "      <th></th>\n",
       "      <th>transit_rate_observed</th>\n",
       "      <th>channel</th>\n",
       "      <th>quarter</th>\n",
       "      <th>transit_rate_threshold</th>\n",
       "    </tr>\n",
       "    <tr>\n",
       "      <th>transit_day_double</th>\n",
       "      <th>skygroup</th>\n",
       "      <th>season</th>\n",
       "      <th></th>\n",
       "      <th></th>\n",
       "      <th></th>\n",
       "      <th></th>\n",
       "    </tr>\n",
       "  </thead>\n",
       "  <tbody>\n",
       "    <tr>\n",
       "      <th>134</th>\n",
       "      <th>43</th>\n",
       "      <th>3</th>\n",
       "      <td>11</td>\n",
       "      <td>44</td>\n",
       "      <td>1</td>\n",
       "      <td>5.0</td>\n",
       "    </tr>\n",
       "    <tr>\n",
       "      <th>136</th>\n",
       "      <th>43</th>\n",
       "      <th>3</th>\n",
       "      <td>10</td>\n",
       "      <td>44</td>\n",
       "      <td>1</td>\n",
       "      <td>5.0</td>\n",
       "    </tr>\n",
       "    <tr>\n",
       "      <th>138</th>\n",
       "      <th>43</th>\n",
       "      <th>3</th>\n",
       "      <td>13</td>\n",
       "      <td>44</td>\n",
       "      <td>1</td>\n",
       "      <td>5.0</td>\n",
       "    </tr>\n",
       "    <tr>\n",
       "      <th>140</th>\n",
       "      <th>43</th>\n",
       "      <th>3</th>\n",
       "      <td>11</td>\n",
       "      <td>44</td>\n",
       "      <td>1</td>\n",
       "      <td>5.0</td>\n",
       "    </tr>\n",
       "    <tr>\n",
       "      <th>170</th>\n",
       "      <th>42</th>\n",
       "      <th>0</th>\n",
       "      <td>13</td>\n",
       "      <td>44</td>\n",
       "      <td>2</td>\n",
       "      <td>5.0</td>\n",
       "    </tr>\n",
       "    <tr>\n",
       "      <th rowspan=\"3\" valign=\"top\">172</th>\n",
       "      <th>36</th>\n",
       "      <th>0</th>\n",
       "      <td>9</td>\n",
       "      <td>52</td>\n",
       "      <td>2</td>\n",
       "      <td>3.0</td>\n",
       "    </tr>\n",
       "    <tr>\n",
       "      <th>42</th>\n",
       "      <th>0</th>\n",
       "      <td>11</td>\n",
       "      <td>44</td>\n",
       "      <td>2</td>\n",
       "      <td>5.0</td>\n",
       "    </tr>\n",
       "    <tr>\n",
       "      <th>58</th>\n",
       "      <th>0</th>\n",
       "      <td>11</td>\n",
       "      <td>26</td>\n",
       "      <td>2</td>\n",
       "      <td>5.0</td>\n",
       "    </tr>\n",
       "    <tr>\n",
       "      <th>184</th>\n",
       "      <th>18</th>\n",
       "      <th>0</th>\n",
       "      <td>26</td>\n",
       "      <td>66</td>\n",
       "      <td>2</td>\n",
       "      <td>5.0</td>\n",
       "    </tr>\n",
       "    <tr>\n",
       "      <th rowspan=\"3\" valign=\"top\">186</th>\n",
       "      <th>18</th>\n",
       "      <th>0</th>\n",
       "      <td>18</td>\n",
       "      <td>66</td>\n",
       "      <td>2</td>\n",
       "      <td>5.0</td>\n",
       "    </tr>\n",
       "    <tr>\n",
       "      <th>58</th>\n",
       "      <th>0</th>\n",
       "      <td>19</td>\n",
       "      <td>26</td>\n",
       "      <td>2</td>\n",
       "      <td>5.0</td>\n",
       "    </tr>\n",
       "    <tr>\n",
       "      <th>62</th>\n",
       "      <th>0</th>\n",
       "      <td>8</td>\n",
       "      <td>22</td>\n",
       "      <td>2</td>\n",
       "      <td>4.0</td>\n",
       "    </tr>\n",
       "    <tr>\n",
       "      <th>230</th>\n",
       "      <th>58</th>\n",
       "      <th>0</th>\n",
       "      <td>26</td>\n",
       "      <td>26</td>\n",
       "      <td>2</td>\n",
       "      <td>5.0</td>\n",
       "    </tr>\n",
       "    <tr>\n",
       "      <th rowspan=\"2\" valign=\"top\">232</th>\n",
       "      <th>26</th>\n",
       "      <th>0</th>\n",
       "      <td>14</td>\n",
       "      <td>58</td>\n",
       "      <td>2</td>\n",
       "      <td>5.0</td>\n",
       "    </tr>\n",
       "    <tr>\n",
       "      <th>58</th>\n",
       "      <th>0</th>\n",
       "      <td>120</td>\n",
       "      <td>26</td>\n",
       "      <td>2</td>\n",
       "      <td>5.0</td>\n",
       "    </tr>\n",
       "    <tr>\n",
       "      <th>234</th>\n",
       "      <th>58</th>\n",
       "      <th>0</th>\n",
       "      <td>44</td>\n",
       "      <td>26</td>\n",
       "      <td>2</td>\n",
       "      <td>5.0</td>\n",
       "    </tr>\n",
       "    <tr>\n",
       "      <th>236</th>\n",
       "      <th>58</th>\n",
       "      <th>0</th>\n",
       "      <td>13</td>\n",
       "      <td>26</td>\n",
       "      <td>2</td>\n",
       "      <td>5.0</td>\n",
       "    </tr>\n",
       "    <tr>\n",
       "      <th>238</th>\n",
       "      <th>58</th>\n",
       "      <th>0</th>\n",
       "      <td>12</td>\n",
       "      <td>26</td>\n",
       "      <td>2</td>\n",
       "      <td>5.0</td>\n",
       "    </tr>\n",
       "    <tr>\n",
       "      <th>260</th>\n",
       "      <th>41</th>\n",
       "      <th>1</th>\n",
       "      <td>13</td>\n",
       "      <td>44</td>\n",
       "      <td>3</td>\n",
       "      <td>5.0</td>\n",
       "    </tr>\n",
       "    <tr>\n",
       "      <th>308</th>\n",
       "      <th>66</th>\n",
       "      <th>1</th>\n",
       "      <td>16</td>\n",
       "      <td>58</td>\n",
       "      <td>3</td>\n",
       "      <td>6.0</td>\n",
       "    </tr>\n",
       "    <tr>\n",
       "      <th>402</th>\n",
       "      <th>58</th>\n",
       "      <th>2</th>\n",
       "      <td>16</td>\n",
       "      <td>58</td>\n",
       "      <td>4</td>\n",
       "      <td>5.0</td>\n",
       "    </tr>\n",
       "    <tr>\n",
       "      <th>506</th>\n",
       "      <th>43</th>\n",
       "      <th>3</th>\n",
       "      <td>17</td>\n",
       "      <td>44</td>\n",
       "      <td>5</td>\n",
       "      <td>5.0</td>\n",
       "    </tr>\n",
       "    <tr>\n",
       "      <th>508</th>\n",
       "      <th>43</th>\n",
       "      <th>3</th>\n",
       "      <td>12</td>\n",
       "      <td>44</td>\n",
       "      <td>5</td>\n",
       "      <td>5.0</td>\n",
       "    </tr>\n",
       "    <tr>\n",
       "      <th>510</th>\n",
       "      <th>43</th>\n",
       "      <th>3</th>\n",
       "      <td>17</td>\n",
       "      <td>44</td>\n",
       "      <td>5</td>\n",
       "      <td>5.0</td>\n",
       "    </tr>\n",
       "    <tr>\n",
       "      <th>512</th>\n",
       "      <th>43</th>\n",
       "      <th>3</th>\n",
       "      <td>21</td>\n",
       "      <td>44</td>\n",
       "      <td>5</td>\n",
       "      <td>5.0</td>\n",
       "    </tr>\n",
       "    <tr>\n",
       "      <th>514</th>\n",
       "      <th>43</th>\n",
       "      <th>3</th>\n",
       "      <td>15</td>\n",
       "      <td>44</td>\n",
       "      <td>5</td>\n",
       "      <td>5.0</td>\n",
       "    </tr>\n",
       "    <tr>\n",
       "      <th>518</th>\n",
       "      <th>66</th>\n",
       "      <th>3</th>\n",
       "      <td>14</td>\n",
       "      <td>26</td>\n",
       "      <td>5</td>\n",
       "      <td>6.0</td>\n",
       "    </tr>\n",
       "    <tr>\n",
       "      <th>524</th>\n",
       "      <th>66</th>\n",
       "      <th>3</th>\n",
       "      <td>12</td>\n",
       "      <td>26</td>\n",
       "      <td>5</td>\n",
       "      <td>6.0</td>\n",
       "    </tr>\n",
       "    <tr>\n",
       "      <th rowspan=\"2\" valign=\"top\">540</th>\n",
       "      <th>58</th>\n",
       "      <th>0</th>\n",
       "      <td>15</td>\n",
       "      <td>26</td>\n",
       "      <td>6</td>\n",
       "      <td>5.0</td>\n",
       "    </tr>\n",
       "    <tr>\n",
       "      <th>62</th>\n",
       "      <th>0</th>\n",
       "      <td>8</td>\n",
       "      <td>22</td>\n",
       "      <td>6</td>\n",
       "      <td>4.0</td>\n",
       "    </tr>\n",
       "    <tr>\n",
       "      <th>...</th>\n",
       "      <th>...</th>\n",
       "      <th>...</th>\n",
       "      <td>...</td>\n",
       "      <td>...</td>\n",
       "      <td>...</td>\n",
       "      <td>...</td>\n",
       "    </tr>\n",
       "    <tr>\n",
       "      <th>1240</th>\n",
       "      <th>18</th>\n",
       "      <th>3</th>\n",
       "      <td>10</td>\n",
       "      <td>58</td>\n",
       "      <td>13</td>\n",
       "      <td>5.0</td>\n",
       "    </tr>\n",
       "    <tr>\n",
       "      <th>1254</th>\n",
       "      <th>43</th>\n",
       "      <th>3</th>\n",
       "      <td>11</td>\n",
       "      <td>44</td>\n",
       "      <td>13</td>\n",
       "      <td>5.0</td>\n",
       "    </tr>\n",
       "    <tr>\n",
       "      <th>1256</th>\n",
       "      <th>43</th>\n",
       "      <th>3</th>\n",
       "      <td>21</td>\n",
       "      <td>44</td>\n",
       "      <td>13</td>\n",
       "      <td>5.0</td>\n",
       "    </tr>\n",
       "    <tr>\n",
       "      <th>1258</th>\n",
       "      <th>43</th>\n",
       "      <th>3</th>\n",
       "      <td>12</td>\n",
       "      <td>44</td>\n",
       "      <td>13</td>\n",
       "      <td>5.0</td>\n",
       "    </tr>\n",
       "    <tr>\n",
       "      <th>1260</th>\n",
       "      <th>43</th>\n",
       "      <th>3</th>\n",
       "      <td>12</td>\n",
       "      <td>44</td>\n",
       "      <td>13</td>\n",
       "      <td>5.0</td>\n",
       "    </tr>\n",
       "    <tr>\n",
       "      <th>1262</th>\n",
       "      <th>43</th>\n",
       "      <th>3</th>\n",
       "      <td>18</td>\n",
       "      <td>44</td>\n",
       "      <td>13</td>\n",
       "      <td>5.0</td>\n",
       "    </tr>\n",
       "    <tr>\n",
       "      <th>1264</th>\n",
       "      <th>43</th>\n",
       "      <th>3</th>\n",
       "      <td>14</td>\n",
       "      <td>44</td>\n",
       "      <td>13</td>\n",
       "      <td>5.0</td>\n",
       "    </tr>\n",
       "    <tr>\n",
       "      <th rowspan=\"2\" valign=\"top\">1274</th>\n",
       "      <th>58</th>\n",
       "      <th>0</th>\n",
       "      <td>16</td>\n",
       "      <td>26</td>\n",
       "      <td>14</td>\n",
       "      <td>5.0</td>\n",
       "    </tr>\n",
       "    <tr>\n",
       "      <th>62</th>\n",
       "      <th>0</th>\n",
       "      <td>12</td>\n",
       "      <td>22</td>\n",
       "      <td>14</td>\n",
       "      <td>4.0</td>\n",
       "    </tr>\n",
       "    <tr>\n",
       "      <th>1298</th>\n",
       "      <th>42</th>\n",
       "      <th>0</th>\n",
       "      <td>10</td>\n",
       "      <td>44</td>\n",
       "      <td>14</td>\n",
       "      <td>5.0</td>\n",
       "    </tr>\n",
       "    <tr>\n",
       "      <th>1300</th>\n",
       "      <th>42</th>\n",
       "      <th>0</th>\n",
       "      <td>10</td>\n",
       "      <td>44</td>\n",
       "      <td>14</td>\n",
       "      <td>5.0</td>\n",
       "    </tr>\n",
       "    <tr>\n",
       "      <th>1308</th>\n",
       "      <th>42</th>\n",
       "      <th>0</th>\n",
       "      <td>11</td>\n",
       "      <td>44</td>\n",
       "      <td>14</td>\n",
       "      <td>5.0</td>\n",
       "    </tr>\n",
       "    <tr>\n",
       "      <th rowspan=\"2\" valign=\"top\">1338</th>\n",
       "      <th>26</th>\n",
       "      <th>0</th>\n",
       "      <td>12</td>\n",
       "      <td>58</td>\n",
       "      <td>14</td>\n",
       "      <td>5.0</td>\n",
       "    </tr>\n",
       "    <tr>\n",
       "      <th>58</th>\n",
       "      <th>0</th>\n",
       "      <td>101</td>\n",
       "      <td>26</td>\n",
       "      <td>14</td>\n",
       "      <td>5.0</td>\n",
       "    </tr>\n",
       "    <tr>\n",
       "      <th rowspan=\"2\" valign=\"top\">1340</th>\n",
       "      <th>26</th>\n",
       "      <th>0</th>\n",
       "      <td>18</td>\n",
       "      <td>58</td>\n",
       "      <td>14</td>\n",
       "      <td>5.0</td>\n",
       "    </tr>\n",
       "    <tr>\n",
       "      <th>58</th>\n",
       "      <th>0</th>\n",
       "      <td>84</td>\n",
       "      <td>26</td>\n",
       "      <td>14</td>\n",
       "      <td>5.0</td>\n",
       "    </tr>\n",
       "    <tr>\n",
       "      <th rowspan=\"2\" valign=\"top\">1342</th>\n",
       "      <th>26</th>\n",
       "      <th>0</th>\n",
       "      <td>13</td>\n",
       "      <td>58</td>\n",
       "      <td>14</td>\n",
       "      <td>5.0</td>\n",
       "    </tr>\n",
       "    <tr>\n",
       "      <th>58</th>\n",
       "      <th>0</th>\n",
       "      <td>55</td>\n",
       "      <td>26</td>\n",
       "      <td>14</td>\n",
       "      <td>5.0</td>\n",
       "    </tr>\n",
       "    <tr>\n",
       "      <th>1344</th>\n",
       "      <th>35</th>\n",
       "      <th>0</th>\n",
       "      <td>8</td>\n",
       "      <td>51</td>\n",
       "      <td>14</td>\n",
       "      <td>4.0</td>\n",
       "    </tr>\n",
       "    <tr>\n",
       "      <th>1366</th>\n",
       "      <th>8</th>\n",
       "      <th>0</th>\n",
       "      <td>6</td>\n",
       "      <td>80</td>\n",
       "      <td>14</td>\n",
       "      <td>3.0</td>\n",
       "    </tr>\n",
       "    <tr>\n",
       "      <th>1382</th>\n",
       "      <th>41</th>\n",
       "      <th>1</th>\n",
       "      <td>23</td>\n",
       "      <td>44</td>\n",
       "      <td>15</td>\n",
       "      <td>5.0</td>\n",
       "    </tr>\n",
       "    <tr>\n",
       "      <th>1384</th>\n",
       "      <th>41</th>\n",
       "      <th>1</th>\n",
       "      <td>13</td>\n",
       "      <td>44</td>\n",
       "      <td>15</td>\n",
       "      <td>5.0</td>\n",
       "    </tr>\n",
       "    <tr>\n",
       "      <th>1386</th>\n",
       "      <th>41</th>\n",
       "      <th>1</th>\n",
       "      <td>11</td>\n",
       "      <td>44</td>\n",
       "      <td>15</td>\n",
       "      <td>5.0</td>\n",
       "    </tr>\n",
       "    <tr>\n",
       "      <th>1388</th>\n",
       "      <th>41</th>\n",
       "      <th>1</th>\n",
       "      <td>10</td>\n",
       "      <td>44</td>\n",
       "      <td>15</td>\n",
       "      <td>5.0</td>\n",
       "    </tr>\n",
       "    <tr>\n",
       "      <th>1408</th>\n",
       "      <th>41</th>\n",
       "      <th>1</th>\n",
       "      <td>10</td>\n",
       "      <td>44</td>\n",
       "      <td>15</td>\n",
       "      <td>5.0</td>\n",
       "    </tr>\n",
       "    <tr>\n",
       "      <th>1418</th>\n",
       "      <th>70</th>\n",
       "      <th>1</th>\n",
       "      <td>10</td>\n",
       "      <td>74</td>\n",
       "      <td>15</td>\n",
       "      <td>5.0</td>\n",
       "    </tr>\n",
       "    <tr>\n",
       "      <th>1420</th>\n",
       "      <th>18</th>\n",
       "      <th>1</th>\n",
       "      <td>14</td>\n",
       "      <td>26</td>\n",
       "      <td>15</td>\n",
       "      <td>5.0</td>\n",
       "    </tr>\n",
       "    <tr>\n",
       "      <th>1490</th>\n",
       "      <th>58</th>\n",
       "      <th>2</th>\n",
       "      <td>19</td>\n",
       "      <td>58</td>\n",
       "      <td>16</td>\n",
       "      <td>5.0</td>\n",
       "    </tr>\n",
       "    <tr>\n",
       "      <th>1528</th>\n",
       "      <th>58</th>\n",
       "      <th>2</th>\n",
       "      <td>11</td>\n",
       "      <td>58</td>\n",
       "      <td>16</td>\n",
       "      <td>5.0</td>\n",
       "    </tr>\n",
       "    <tr>\n",
       "      <th>1560</th>\n",
       "      <th>36</th>\n",
       "      <th>3</th>\n",
       "      <td>7</td>\n",
       "      <td>80</td>\n",
       "      <td>17</td>\n",
       "      <td>3.0</td>\n",
       "    </tr>\n",
       "  </tbody>\n",
       "</table>\n",
       "<p>111 rows × 4 columns</p>\n",
       "</div>"
      ],
      "text/plain": [
       "                                    transit_rate_observed  channel  quarter  \\\n",
       "transit_day_double skygroup season                                            \n",
       "134                43       3                          11       44        1   \n",
       "136                43       3                          10       44        1   \n",
       "138                43       3                          13       44        1   \n",
       "140                43       3                          11       44        1   \n",
       "170                42       0                          13       44        2   \n",
       "172                36       0                           9       52        2   \n",
       "                   42       0                          11       44        2   \n",
       "                   58       0                          11       26        2   \n",
       "184                18       0                          26       66        2   \n",
       "186                18       0                          18       66        2   \n",
       "                   58       0                          19       26        2   \n",
       "                   62       0                           8       22        2   \n",
       "230                58       0                          26       26        2   \n",
       "232                26       0                          14       58        2   \n",
       "                   58       0                         120       26        2   \n",
       "234                58       0                          44       26        2   \n",
       "236                58       0                          13       26        2   \n",
       "238                58       0                          12       26        2   \n",
       "260                41       1                          13       44        3   \n",
       "308                66       1                          16       58        3   \n",
       "402                58       2                          16       58        4   \n",
       "506                43       3                          17       44        5   \n",
       "508                43       3                          12       44        5   \n",
       "510                43       3                          17       44        5   \n",
       "512                43       3                          21       44        5   \n",
       "514                43       3                          15       44        5   \n",
       "518                66       3                          14       26        5   \n",
       "524                66       3                          12       26        5   \n",
       "540                58       0                          15       26        6   \n",
       "                   62       0                           8       22        6   \n",
       "...                                                   ...      ...      ...   \n",
       "1240               18       3                          10       58       13   \n",
       "1254               43       3                          11       44       13   \n",
       "1256               43       3                          21       44       13   \n",
       "1258               43       3                          12       44       13   \n",
       "1260               43       3                          12       44       13   \n",
       "1262               43       3                          18       44       13   \n",
       "1264               43       3                          14       44       13   \n",
       "1274               58       0                          16       26       14   \n",
       "                   62       0                          12       22       14   \n",
       "1298               42       0                          10       44       14   \n",
       "1300               42       0                          10       44       14   \n",
       "1308               42       0                          11       44       14   \n",
       "1338               26       0                          12       58       14   \n",
       "                   58       0                         101       26       14   \n",
       "1340               26       0                          18       58       14   \n",
       "                   58       0                          84       26       14   \n",
       "1342               26       0                          13       58       14   \n",
       "                   58       0                          55       26       14   \n",
       "1344               35       0                           8       51       14   \n",
       "1366               8        0                           6       80       14   \n",
       "1382               41       1                          23       44       15   \n",
       "1384               41       1                          13       44       15   \n",
       "1386               41       1                          11       44       15   \n",
       "1388               41       1                          10       44       15   \n",
       "1408               41       1                          10       44       15   \n",
       "1418               70       1                          10       74       15   \n",
       "1420               18       1                          14       26       15   \n",
       "1490               58       2                          19       58       16   \n",
       "1528               58       2                          11       58       16   \n",
       "1560               36       3                           7       80       17   \n",
       "\n",
       "                                    transit_rate_threshold  \n",
       "transit_day_double skygroup season                          \n",
       "134                43       3                          5.0  \n",
       "136                43       3                          5.0  \n",
       "138                43       3                          5.0  \n",
       "140                43       3                          5.0  \n",
       "170                42       0                          5.0  \n",
       "172                36       0                          3.0  \n",
       "                   42       0                          5.0  \n",
       "                   58       0                          5.0  \n",
       "184                18       0                          5.0  \n",
       "186                18       0                          5.0  \n",
       "                   58       0                          5.0  \n",
       "                   62       0                          4.0  \n",
       "230                58       0                          5.0  \n",
       "232                26       0                          5.0  \n",
       "                   58       0                          5.0  \n",
       "234                58       0                          5.0  \n",
       "236                58       0                          5.0  \n",
       "238                58       0                          5.0  \n",
       "260                41       1                          5.0  \n",
       "308                66       1                          6.0  \n",
       "402                58       2                          5.0  \n",
       "506                43       3                          5.0  \n",
       "508                43       3                          5.0  \n",
       "510                43       3                          5.0  \n",
       "512                43       3                          5.0  \n",
       "514                43       3                          5.0  \n",
       "518                66       3                          6.0  \n",
       "524                66       3                          6.0  \n",
       "540                58       0                          5.0  \n",
       "                   62       0                          4.0  \n",
       "...                                                    ...  \n",
       "1240               18       3                          5.0  \n",
       "1254               43       3                          5.0  \n",
       "1256               43       3                          5.0  \n",
       "1258               43       3                          5.0  \n",
       "1260               43       3                          5.0  \n",
       "1262               43       3                          5.0  \n",
       "1264               43       3                          5.0  \n",
       "1274               58       0                          5.0  \n",
       "                   62       0                          4.0  \n",
       "1298               42       0                          5.0  \n",
       "1300               42       0                          5.0  \n",
       "1308               42       0                          5.0  \n",
       "1338               26       0                          5.0  \n",
       "                   58       0                          5.0  \n",
       "1340               26       0                          5.0  \n",
       "                   58       0                          5.0  \n",
       "1342               26       0                          5.0  \n",
       "                   58       0                          5.0  \n",
       "1344               35       0                          4.0  \n",
       "1366               8        0                          3.0  \n",
       "1382               41       1                          5.0  \n",
       "1384               41       1                          5.0  \n",
       "1386               41       1                          5.0  \n",
       "1388               41       1                          5.0  \n",
       "1408               41       1                          5.0  \n",
       "1418               70       1                          5.0  \n",
       "1420               18       1                          5.0  \n",
       "1490               58       2                          5.0  \n",
       "1528               58       2                          5.0  \n",
       "1560               36       3                          3.0  \n",
       "\n",
       "[111 rows x 4 columns]"
      ]
     },
     "execution_count": 949,
     "metadata": {},
     "output_type": "execute_result"
    }
   ],
   "source": [
    "transit_rate[mask_bad_data]"
   ]
  },
  {
   "cell_type": "code",
   "execution_count": 950,
   "metadata": {
    "collapsed": false
   },
   "outputs": [
    {
     "data": {
      "text/plain": [
       "channel\n",
       "51     1\n",
       "52     1\n",
       "74     1\n",
       "66     2\n",
       "80     2\n",
       "22     3\n",
       "58    20\n",
       "26    29\n",
       "44    52\n",
       "dtype: int64"
      ]
     },
     "execution_count": 950,
     "metadata": {},
     "output_type": "execute_result"
    }
   ],
   "source": [
    "transit_rate[mask_bad_data].reset_index().groupby('channel').size().sort_values()"
   ]
  },
  {
   "cell_type": "code",
   "execution_count": 951,
   "metadata": {
    "collapsed": false
   },
   "outputs": [
    {
     "data": {
      "text/plain": [
       "2268"
      ]
     },
     "execution_count": 951,
     "metadata": {},
     "output_type": "execute_result"
    }
   ],
   "source": [
    "mask_transits_flagged = transits.channel > 999\n",
    "for transit_day, skygroup, season in transit_rate[mask_bad_data].index:\n",
    "    mask_transits_flagged |= (\n",
    "                            (transits[BIN_BY] == transit_day) &\n",
    "                            (transits.skygroup == skygroup) &\n",
    "                            (transits.season == season)\n",
    "                         )\n",
    "mask_transits_flagged.sum()"
   ]
  },
  {
   "cell_type": "code",
   "execution_count": 952,
   "metadata": {
    "collapsed": false
   },
   "outputs": [
    {
     "data": {
      "text/plain": [
       "1054"
      ]
     },
     "execution_count": 952,
     "metadata": {},
     "output_type": "execute_result"
    }
   ],
   "source": [
    "tces_to_remove = transits[mask_transits_flagged].tce.unique()\n",
    "tces_to_remove.size"
   ]
  },
  {
   "cell_type": "code",
   "execution_count": 953,
   "metadata": {
    "collapsed": false
   },
   "outputs": [
    {
     "data": {
      "text/plain": [
       "4058"
      ]
     },
     "execution_count": 953,
     "metadata": {},
     "output_type": "execute_result"
    }
   ],
   "source": [
    "mask_transits_to_remove = transits.tce.isin(tces_to_remove)\n",
    "mask_transits_to_remove.sum()"
   ]
  },
  {
   "cell_type": "markdown",
   "metadata": {},
   "source": [
    "## What is the daily maximum?"
   ]
  },
  {
   "cell_type": "code",
   "execution_count": 954,
   "metadata": {
    "collapsed": false
   },
   "outputs": [
    {
     "data": {
      "text/plain": [
       "transit_day_double\n",
       "130     5\n",
       "132    69\n",
       "134    87\n",
       "136    88\n",
       "138    94\n",
       "dtype: int64"
      ]
     },
     "execution_count": 954,
     "metadata": {},
     "output_type": "execute_result"
    }
   ],
   "source": [
    "daily_transit_count = transits[~mask_transits_to_remove].groupby(BIN_BY).size()\n",
    "daily_transit_count.head()"
   ]
  },
  {
   "cell_type": "code",
   "execution_count": 955,
   "metadata": {
    "collapsed": false
   },
   "outputs": [
    {
     "name": "stdout",
     "output_type": "stream",
     "text": [
      "n=10459 p=0.00678841189406253\n"
     ]
    },
    {
     "data": {
      "text/plain": [
       "127.0"
      ]
     },
     "execution_count": 955,
     "metadata": {},
     "output_type": "execute_result"
    }
   ],
   "source": [
    "from scipy.stats import binom\n",
    "n_tces = transits[~mask_transits_to_remove].tce.unique().size\n",
    "p_transit = daily_transit_count.median() / n_tces\n",
    "daily_threshold = binom.ppf(1 - 1e-9, int(n_tces), p_transit)\n",
    "print('n={} p={}'.format(n_tces, p_transit))\n",
    "daily_threshold"
   ]
  },
  {
   "cell_type": "code",
   "execution_count": 956,
   "metadata": {
    "collapsed": false
   },
   "outputs": [
    {
     "data": {
      "text/plain": [
       "transit_day_double\n",
       "372     164\n",
       "1092    204\n",
       "1230    130\n",
       "1560    135\n",
       "dtype: int64"
      ]
     },
     "execution_count": 956,
     "metadata": {},
     "output_type": "execute_result"
    }
   ],
   "source": [
    "daily_transit_count[daily_transit_count >= daily_threshold]"
   ]
  },
  {
   "cell_type": "code",
   "execution_count": 957,
   "metadata": {
    "collapsed": false
   },
   "outputs": [
    {
     "data": {
      "text/plain": [
       "Int64Index([372, 1092, 1230, 1560], dtype='int64', name='transit_day_double')"
      ]
     },
     "execution_count": 957,
     "metadata": {},
     "output_type": "execute_result"
    }
   ],
   "source": [
    "days_to_remove = daily_transit_count[daily_transit_count > daily_threshold].index\n",
    "days_to_remove"
   ]
  },
  {
   "cell_type": "code",
   "execution_count": 958,
   "metadata": {
    "collapsed": false
   },
   "outputs": [
    {
     "data": {
      "text/plain": [
       "2455"
      ]
     },
     "execution_count": 958,
     "metadata": {},
     "output_type": "execute_result"
    }
   ],
   "source": [
    "mask_transits_flagged2 = mask_transits_flagged | transits.transit_day.isin(days_to_remove)\n",
    "mask_transits_flagged2.sum()"
   ]
  },
  {
   "cell_type": "code",
   "execution_count": 959,
   "metadata": {
    "collapsed": false
   },
   "outputs": [
    {
     "data": {
      "text/plain": [
       "1237"
      ]
     },
     "execution_count": 959,
     "metadata": {},
     "output_type": "execute_result"
    }
   ],
   "source": [
    "tces_to_remove2 = transits[mask_transits_flagged2].tce.unique()\n",
    "tces_to_remove2.size"
   ]
  },
  {
   "cell_type": "code",
   "execution_count": 960,
   "metadata": {
    "collapsed": false
   },
   "outputs": [
    {
     "data": {
      "text/plain": [
       "5143"
      ]
     },
     "execution_count": 960,
     "metadata": {},
     "output_type": "execute_result"
    }
   ],
   "source": [
    "mask_transits_to_remove2 = transits.tce.isin(tces_to_remove2)\n",
    "mask_transits_to_remove2.sum()"
   ]
  },
  {
   "cell_type": "markdown",
   "metadata": {},
   "source": [
    "## Write output file"
   ]
  },
  {
   "cell_type": "code",
   "execution_count": 935,
   "metadata": {
    "collapsed": false
   },
   "outputs": [],
   "source": [
    "with open('halfday-binomial-strict-OPS.txt', 'w') as out:\n",
    "    out.write('# This file lists transits of long-period (>100 days), low-mes (<20) candidates\\n')\n",
    "    out.write('# which occured on days when an implausibly high number of transits were detected\\n')\n",
    "    out.write('# on the same channel.\\n')\n",
    "    out.write('# 1 = bad transit\\n')\n",
    "    for row in transits[mask_transits_flagged2].sort_values('tce').itertuples():\n",
    "        out.write('{} {:11.6f} 1\\n'.format(row.tce, row.transit_time_x))"
   ]
  },
  {
   "cell_type": "code",
   "execution_count": 937,
   "metadata": {
    "collapsed": false
   },
   "outputs": [],
   "source": [
    "with open('halfday-binomial-strict-definition.txt', 'w') as out:\n",
    "    out.write('# This file specifies the days (floored bkjd) and skygroups during which\\n')\n",
    "    out.write('# an anomalous number of long-period (>100 days), low-mes (<20) transits were detected.\\n')\n",
    "    out.write('#\\n')\n",
    "    out.write('# bkjd skygroup\\n')\n",
    "    for row in transit_rate[mask_bad_data].reset_index().itertuples():\n",
    "        out.write('{} {}\\n'.format(row.transit_day_half, row.skygroup))\n",
    "    for day in days_to_remove:\n",
    "        for channel in range(1, 85):\n",
    "            out.write('{} {}\\n'.format(day, channel))"
   ]
  },
  {
   "cell_type": "code",
   "execution_count": 961,
   "metadata": {
    "collapsed": false
   },
   "outputs": [
    {
     "data": {
      "image/png": "[encoded data removed]",
      "text/plain": [
       "<matplotlib.figure.Figure at 0x7f62a7f89d30>"
      ]
     },
     "metadata": {},
     "output_type": "display_data"
    }
   ],
   "source": [
    "pl.figure(figsize=(10,7))\n",
    "pl.subplot(211)\n",
    "_ = pl.hist(transits.groupby('tce').first().tce_period, bins=100, label='Before cut',\n",
    "            facecolor='red')\n",
    "_ = pl.hist(transits[~mask_transits_to_remove2].groupby('tce').first().tce_period, bins=100,  label='After cut',\n",
    "            facecolor='blue')\n",
    "pl.xlabel('Period [days]', fontsize=14)\n",
    "pl.legend()\n",
    "pl.title('Binomial threshold  (tolerant version)', fontsize=18)\n",
    "pl.text(700, 400, 'Only showing\\nperiod > 100 days\\nmax_mult_ev < 20', ha='left')\n",
    "\n",
    "pl.subplot(212)\n",
    "_ = pl.hist(transits.transit_time_x,\n",
    "            lw=0, facecolor='red', label='Before cut',\n",
    "            bins=(KEPLER_END_BK - KEPLER_BEGIN_BK),\n",
    "            range=(KEPLER_BEGIN_BK, KEPLER_END_BK))\n",
    "_ = pl.hist(transits[~mask_transits_to_remove2].transit_time_x,\n",
    "            lw=0, facecolor='blue', label='After cut',\n",
    "            bins=(KEPLER_END_BK - KEPLER_BEGIN_BK),\n",
    "            range=(KEPLER_BEGIN_BK, KEPLER_END_BK))\n",
    "pl.ylim([0, 200])\n",
    "pl.xlim([KEPLER_BEGIN_BK, KEPLER_END_BK])\n",
    "pl.legend()\n",
    "pl.xlabel('Transit time', fontsize=14)\n",
    "pl.text(1390, 120, 'Only showing\\nperiod > 100 days\\nmax_mult_ev < 20', ha='left')\n",
    "pl.tight_layout()\n",
    "pl.savefig('twoday-binomial-threshold-tolerant.png')"
   ]
  },
  {
   "cell_type": "code",
   "execution_count": 495,
   "metadata": {
    "collapsed": false
   },
   "outputs": [
    {
     "data": {
      "text/plain": [
       "<matplotlib.text.Text at 0x7f62b6395320>"
      ]
     },
     "execution_count": 495,
     "metadata": {},
     "output_type": "execute_result"
    },
    {
     "data": {
      "image/png": "[encoded data removed]",
      "text/plain": [
       "<matplotlib.figure.Figure at 0x7f62b83f1550>"
      ]
     },
     "metadata": {},
     "output_type": "display_data"
    }
   ],
   "source": [
    "pl.figure(figsize=(10,4))\n",
    "_ = pl.hist(transits.transit_time_x,\n",
    "            lw=0, facecolor='red', label='Before',\n",
    "            bins=(KEPLER_END_BK - KEPLER_BEGIN_BK),\n",
    "            range=(KEPLER_BEGIN_BK, KEPLER_END_BK))\n",
    "_ = pl.hist(transits[~mask_transits_to_remove2].transit_time_x,\n",
    "            lw=0, facecolor='blue', label='After',\n",
    "            bins=(KEPLER_END_BK - KEPLER_BEGIN_BK),\n",
    "            range=(KEPLER_BEGIN_BK, KEPLER_END_BK))\n",
    "pl.ylim([0, 200])\n",
    "pl.xlim([KEPLER_BEGIN_BK, KEPLER_END_BK])\n",
    "pl.legend()\n",
    "pl.xlabel('transit time')\n",
    "pl.title('Binomial cut for TCEs with period > 100 days and max_mult_ev < 20')"
   ]
  },
  {
   "cell_type": "code",
   "execution_count": 473,
   "metadata": {
    "collapsed": false
   },
   "outputs": [
    {
     "data": {
      "text/plain": [
       "(0, 200)"
      ]
     },
     "execution_count": 473,
     "metadata": {},
     "output_type": "execute_result"
    },
    {
     "data": {
      "image/png": "[encoded data removed]",
      "text/plain": [
       "<matplotlib.figure.Figure at 0x7f62bb197c88>"
      ]
     },
     "metadata": {},
     "output_type": "display_data"
    }
   ],
   "source": [
    "_ = pl.hist(transits[~mask_transits_to_remove2].transit_time_x,\n",
    "            bins=(KEPLER_END_BK - KEPLER_BEGIN_BK),\n",
    "            range=(KEPLER_BEGIN_BK, KEPLER_END_BK))\n",
    "pl.ylim([0, 200])"
   ]
  },
  {
   "cell_type": "code",
   "execution_count": 325,
   "metadata": {
    "collapsed": false
   },
   "outputs": [
    {
     "data": {
      "text/plain": [
       "<matplotlib.axes._subplots.AxesSubplot at 0x7f62bcb2bef0>"
      ]
     },
     "execution_count": 325,
     "metadata": {},
     "output_type": "execute_result"
    },
    {
     "data": {
      "image/png": "[encoded data removed]",
      "text/plain": [
       "<matplotlib.figure.Figure at 0x7f62c29eb5c0>"
      ]
     },
     "metadata": {},
     "output_type": "display_data"
    }
   ],
   "source": [
    "transits.tce_max_mult_ev.hist(bins=30, range=(0,30))"
   ]
  },
  {
   "cell_type": "code",
   "execution_count": 326,
   "metadata": {
    "collapsed": false
   },
   "outputs": [
    {
     "data": {
      "text/plain": [
       "channel\n",
       "1        3\n",
       "2       30\n",
       "3       42\n",
       "5        1\n",
       "6        2\n",
       "7        5\n",
       "8        1\n",
       "9        5\n",
       "10      20\n",
       "11      15\n",
       "12      34\n",
       "13       8\n",
       "14      24\n",
       "15       5\n",
       "16      23\n",
       "17       4\n",
       "18     153\n",
       "19       7\n",
       "20       4\n",
       "21       4\n",
       "22      83\n",
       "23       7\n",
       "25      18\n",
       "26    1571\n",
       "27      10\n",
       "28       4\n",
       "29       6\n",
       "30      60\n",
       "31      43\n",
       "33       3\n",
       "      ... \n",
       "52      54\n",
       "53       3\n",
       "54      62\n",
       "55      48\n",
       "57       4\n",
       "58     670\n",
       "59       7\n",
       "60       4\n",
       "61       3\n",
       "62      55\n",
       "63      15\n",
       "65      12\n",
       "66     173\n",
       "67      13\n",
       "68       6\n",
       "69       6\n",
       "70      39\n",
       "71      27\n",
       "72      34\n",
       "73      11\n",
       "74      22\n",
       "75      12\n",
       "76      28\n",
       "77       4\n",
       "78      23\n",
       "79      28\n",
       "80      28\n",
       "81       2\n",
       "82      66\n",
       "83      38\n",
       "dtype: int64"
      ]
     },
     "execution_count": 326,
     "metadata": {},
     "output_type": "execute_result"
    }
   ],
   "source": [
    "transits[mask_transits_to_remove].groupby('channel').size()"
   ]
  },
  {
   "cell_type": "code",
   "execution_count": 327,
   "metadata": {
    "collapsed": true
   },
   "outputs": [],
   "source": [
    "transits_to_remove = transits[mask_bad_transits]"
   ]
  },
  {
   "cell_type": "code",
   "execution_count": 329,
   "metadata": {
    "collapsed": false
   },
   "outputs": [
    {
     "data": {
      "text/plain": [
       "50"
      ]
     },
     "execution_count": 329,
     "metadata": {},
     "output_type": "execute_result"
    }
   ],
   "source": [
    "transits_to_remove[transits_to_remove.channel == 26].transit_day.sort_values().unique().size"
   ]
  },
  {
   "cell_type": "code",
   "execution_count": 330,
   "metadata": {
    "collapsed": false
   },
   "outputs": [
    {
     "data": {
      "text/plain": [
       "(24, 4)"
      ]
     },
     "execution_count": 330,
     "metadata": {},
     "output_type": "execute_result"
    }
   ],
   "source": [
    "df = transit_rate[(transit_rate.transit_rate_observed > transit_rate.transit_rate_threshold) & (transit_rate.channel == 58)]\n",
    "df.shape"
   ]
  },
  {
   "cell_type": "code",
   "execution_count": 331,
   "metadata": {
    "collapsed": false
   },
   "outputs": [
    {
     "data": {
      "text/plain": [
       "<matplotlib.axes._subplots.AxesSubplot at 0x7f62bc300a58>"
      ]
     },
     "execution_count": 331,
     "metadata": {},
     "output_type": "execute_result"
    },
    {
     "data": {
      "image/png": "[encoded data removed]",
      "text/plain": [
       "<matplotlib.figure.Figure at 0x7f62bbb7c668>"
      ]
     },
     "metadata": {},
     "output_type": "display_data"
    }
   ],
   "source": [
    "transits_to_remove[transits_to_remove.channel == 44].groupby('tce').first().tce_max_mult_ev.hist(bins=100, range=(0,20))"
   ]
  },
  {
   "cell_type": "code",
   "execution_count": 295,
   "metadata": {
    "collapsed": false
   },
   "outputs": [
    {
     "data": {
      "text/plain": [
       "(0, 30)"
      ]
     },
     "execution_count": 295,
     "metadata": {},
     "output_type": "execute_result"
    },
    {
     "data": {
      "image/png": "[encoded data removed]",
      "text/plain": [
       "<matplotlib.figure.Figure at 0x7f62bd4db0f0>"
      ]
     },
     "metadata": {},
     "output_type": "display_data"
    }
   ],
   "source": [
    "toplot = transits_to_remove[transits_to_remove.channel == 44].groupby('tce').first()\n",
    "pl.scatter(toplot.tce_max_mult_ev, toplot.tce_period)\n",
    "pl.xlim([0,30])"
   ]
  },
  {
   "cell_type": "code",
   "execution_count": null,
   "metadata": {
    "collapsed": true
   },
   "outputs": [],
   "source": []
  },
  {
   "cell_type": "code",
   "execution_count": 297,
   "metadata": {
    "collapsed": false
   },
   "outputs": [
    {
     "data": {
      "text/plain": [
       "<matplotlib.axes._subplots.AxesSubplot at 0x7f62bd3804e0>"
      ]
     },
     "execution_count": 297,
     "metadata": {},
     "output_type": "execute_result"
    },
    {
     "data": {
      "image/png": "[encoded data removed]",
      "text/plain": [
       "<matplotlib.figure.Figure at 0x7f62bd3a1b38>"
      ]
     },
     "metadata": {},
     "output_type": "display_data"
    }
   ],
   "source": [
    "transits.tce_max_mult_ev.hist(bins=50, range=(0,50))"
   ]
  },
  {
   "cell_type": "code",
   "execution_count": null,
   "metadata": {
    "collapsed": true
   },
   "outputs": [],
   "source": []
  }
 ],
 "metadata": {
  "kernelspec": {
   "display_name": "Python [Root]",
   "language": "python",
   "name": "Python [Root]"
  },
  "language_info": {
   "codemirror_mode": {
    "name": "ipython",
    "version": 3
   },
   "file_extension": ".py",
   "mimetype": "text/x-python",
   "name": "python",
   "nbconvert_exporter": "python",
   "pygments_lexer": "ipython3",
   "version": "3.5.2"
  }
 },
 "nbformat": 4,
 "nbformat_minor": 0
}
