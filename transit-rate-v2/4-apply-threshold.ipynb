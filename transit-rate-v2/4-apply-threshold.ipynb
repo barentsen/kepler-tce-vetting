{
 "cells": [
  {
   "cell_type": "code",
   "execution_count": 860,
   "metadata": {
    "collapsed": true
   },
   "outputs": [],
   "source": [
    "%matplotlib inline\n",
    "import matplotlib.pyplot as pl\n",
    "from matplotlib import rcParams\n",
    "rcParams[\"savefig.dpi\"] = 100\n",
    "import seaborn as sns\n",
    "\n",
    "import numpy as np\n",
    "import pandas as pd\n",
    "from tqdm import tqdm\n",
    "\n",
    "# A few useful constants\n",
    "KEPLER_BEGIN_BK, KEPLER_END_BK = 130, 1582"
   ]
  },
  {
   "cell_type": "code",
   "execution_count": 861,
   "metadata": {
    "collapsed": true
   },
   "outputs": [],
   "source": [
    "transits = pd.read_hdf('observed-long-period-transits.h5', key='transits')\n",
    "transits = transits[transits.tce_max_mult_ev < 20]"
   ]
  },
  {
   "cell_type": "code",
   "execution_count": 862,
   "metadata": {
    "collapsed": true
   },
   "outputs": [],
   "source": [
    "AGRESSIVITY = 'least_agressive'\n",
    "thresholds = pd.read_hdf('transit-rate-by-skygroup-with-threshold-{}.h5'.format(AGRESSIVITY), key='rate')"
   ]
  },
  {
   "cell_type": "code",
   "execution_count": 863,
   "metadata": {
    "collapsed": false
   },
   "outputs": [
    {
     "data": {
      "text/html": [
       "<div>\n",
       "<table border=\"1\" class=\"dataframe\">\n",
       "  <thead>\n",
       "    <tr style=\"text-align: right;\">\n",
       "      <th></th>\n",
       "      <th>kepid_x</th>\n",
       "      <th>tce</th>\n",
       "      <th>tce_max_mult_ev</th>\n",
       "      <th>tce_period</th>\n",
       "      <th>tce_plnt_num</th>\n",
       "      <th>transit_time_x</th>\n",
       "      <th>quarter</th>\n",
       "      <th>season</th>\n",
       "      <th>channel</th>\n",
       "      <th>idx</th>\n",
       "      <th>kepid_y</th>\n",
       "      <th>module</th>\n",
       "      <th>output</th>\n",
       "      <th>skygroup</th>\n",
       "      <th>transit_time_y</th>\n",
       "      <th>day_single</th>\n",
       "      <th>day_quart</th>\n",
       "      <th>day_half</th>\n",
       "      <th>day_double</th>\n",
       "    </tr>\n",
       "  </thead>\n",
       "  <tbody>\n",
       "    <tr>\n",
       "      <th>0</th>\n",
       "      <td>2304168</td>\n",
       "      <td>002304168-02</td>\n",
       "      <td>12.22</td>\n",
       "      <td>431.719</td>\n",
       "      <td>2</td>\n",
       "      <td>219.298</td>\n",
       "      <td>2</td>\n",
       "      <td>0</td>\n",
       "      <td>4</td>\n",
       "      <td>0</td>\n",
       "      <td>2304168</td>\n",
       "      <td>2</td>\n",
       "      <td>4</td>\n",
       "      <td>84</td>\n",
       "      <td>219.298</td>\n",
       "      <td>219</td>\n",
       "      <td>219.25</td>\n",
       "      <td>219.0</td>\n",
       "      <td>218</td>\n",
       "    </tr>\n",
       "    <tr>\n",
       "      <th>1</th>\n",
       "      <td>2304168</td>\n",
       "      <td>002304168-02</td>\n",
       "      <td>12.22</td>\n",
       "      <td>431.719</td>\n",
       "      <td>2</td>\n",
       "      <td>651.017</td>\n",
       "      <td>7</td>\n",
       "      <td>1</td>\n",
       "      <td>56</td>\n",
       "      <td>1</td>\n",
       "      <td>2304168</td>\n",
       "      <td>16</td>\n",
       "      <td>4</td>\n",
       "      <td>84</td>\n",
       "      <td>651.017</td>\n",
       "      <td>651</td>\n",
       "      <td>651.00</td>\n",
       "      <td>651.0</td>\n",
       "      <td>650</td>\n",
       "    </tr>\n",
       "    <tr>\n",
       "      <th>2</th>\n",
       "      <td>2304168</td>\n",
       "      <td>002304168-02</td>\n",
       "      <td>12.22</td>\n",
       "      <td>431.719</td>\n",
       "      <td>2</td>\n",
       "      <td>1082.736</td>\n",
       "      <td>11</td>\n",
       "      <td>1</td>\n",
       "      <td>56</td>\n",
       "      <td>2</td>\n",
       "      <td>2304168</td>\n",
       "      <td>16</td>\n",
       "      <td>4</td>\n",
       "      <td>84</td>\n",
       "      <td>1082.736</td>\n",
       "      <td>1082</td>\n",
       "      <td>1082.50</td>\n",
       "      <td>1082.5</td>\n",
       "      <td>1082</td>\n",
       "    </tr>\n",
       "    <tr>\n",
       "      <th>3</th>\n",
       "      <td>2304168</td>\n",
       "      <td>002304168-02</td>\n",
       "      <td>12.22</td>\n",
       "      <td>431.719</td>\n",
       "      <td>2</td>\n",
       "      <td>1514.455</td>\n",
       "      <td>16</td>\n",
       "      <td>2</td>\n",
       "      <td>84</td>\n",
       "      <td>3</td>\n",
       "      <td>2304168</td>\n",
       "      <td>24</td>\n",
       "      <td>4</td>\n",
       "      <td>84</td>\n",
       "      <td>1514.455</td>\n",
       "      <td>1514</td>\n",
       "      <td>1514.25</td>\n",
       "      <td>1514.0</td>\n",
       "      <td>1514</td>\n",
       "    </tr>\n",
       "    <tr>\n",
       "      <th>4</th>\n",
       "      <td>2303102</td>\n",
       "      <td>002303102-10</td>\n",
       "      <td>11.51</td>\n",
       "      <td>480.481</td>\n",
       "      <td>10</td>\n",
       "      <td>161.570</td>\n",
       "      <td>1</td>\n",
       "      <td>3</td>\n",
       "      <td>32</td>\n",
       "      <td>4</td>\n",
       "      <td>2303102</td>\n",
       "      <td>10</td>\n",
       "      <td>4</td>\n",
       "      <td>84</td>\n",
       "      <td>161.570</td>\n",
       "      <td>161</td>\n",
       "      <td>161.50</td>\n",
       "      <td>161.5</td>\n",
       "      <td>160</td>\n",
       "    </tr>\n",
       "  </tbody>\n",
       "</table>\n",
       "</div>"
      ],
      "text/plain": [
       "   kepid_x           tce  tce_max_mult_ev  tce_period  tce_plnt_num  \\\n",
       "0  2304168  002304168-02            12.22     431.719             2   \n",
       "1  2304168  002304168-02            12.22     431.719             2   \n",
       "2  2304168  002304168-02            12.22     431.719             2   \n",
       "3  2304168  002304168-02            12.22     431.719             2   \n",
       "4  2303102  002303102-10            11.51     480.481            10   \n",
       "\n",
       "   transit_time_x  quarter  season  channel  idx  kepid_y  module  output  \\\n",
       "0         219.298        2       0        4    0  2304168       2       4   \n",
       "1         651.017        7       1       56    1  2304168      16       4   \n",
       "2        1082.736       11       1       56    2  2304168      16       4   \n",
       "3        1514.455       16       2       84    3  2304168      24       4   \n",
       "4         161.570        1       3       32    4  2303102      10       4   \n",
       "\n",
       "   skygroup  transit_time_y  day_single  day_quart  day_half  day_double  \n",
       "0        84         219.298         219     219.25     219.0         218  \n",
       "1        84         651.017         651     651.00     651.0         650  \n",
       "2        84        1082.736        1082    1082.50    1082.5        1082  \n",
       "3        84        1514.455        1514    1514.25    1514.0        1514  \n",
       "4        84         161.570         161     161.50     161.5         160  "
      ]
     },
     "execution_count": 863,
     "metadata": {},
     "output_type": "execute_result"
    }
   ],
   "source": [
    "transits['day_single'] = np.floor(transits.transit_time_x).astype('int')\n",
    "transits['day_quart'] = 0.25 * np.floor(transits.transit_time_x * 4)\n",
    "transits['day_half'] = 0.5 * np.floor(transits.transit_time_x * 2)\n",
    "transits['day_double'] = (2 * np.floor(transits.transit_time_x * 0.5)).astype('int')\n",
    "transits.head()"
   ]
  },
  {
   "cell_type": "code",
   "execution_count": 864,
   "metadata": {
    "collapsed": false
   },
   "outputs": [],
   "source": [
    "BIN_BY = '_quart'\n",
    "transit_rate_groupby = transits.groupby(['day' + BIN_BY, 'skygroup', 'season'])\n",
    "transit_rate = pd.DataFrame(transit_rate_groupby.size(), columns=['transit_rate_observed'])\n",
    "transit_rate['channel'] = transit_rate_groupby.first().channel\n",
    "transit_rate['quarter'] = transit_rate_groupby.first().quarter\n",
    "assert((transit_rate_groupby.first().channel == transit_rate_groupby.mean().channel).all())\n",
    "assert((transit_rate_groupby.first().quarter == transit_rate_groupby.mean().quarter).all())"
   ]
  },
  {
   "cell_type": "code",
   "execution_count": 865,
   "metadata": {
    "collapsed": false
   },
   "outputs": [],
   "source": [
    "threshold_col = []\n",
    "for day, skygroup, season in transit_rate.index:\n",
    "    threshold_col.append(thresholds.ix[skygroup, season].transit_rate_threshold)\n",
    "transit_rate['transit_rate_threshold' + BIN_BY] = threshold_col"
   ]
  },
  {
   "cell_type": "code",
   "execution_count": 866,
   "metadata": {
    "collapsed": false
   },
   "outputs": [
    {
     "data": {
      "text/html": [
       "<div>\n",
       "<table border=\"1\" class=\"dataframe\">\n",
       "  <thead>\n",
       "    <tr style=\"text-align: right;\">\n",
       "      <th></th>\n",
       "      <th></th>\n",
       "      <th></th>\n",
       "      <th>transit_rate_observed</th>\n",
       "      <th>channel</th>\n",
       "      <th>quarter</th>\n",
       "      <th>transit_rate_threshold_quart</th>\n",
       "    </tr>\n",
       "    <tr>\n",
       "      <th>day_quart</th>\n",
       "      <th>skygroup</th>\n",
       "      <th>season</th>\n",
       "      <th></th>\n",
       "      <th></th>\n",
       "      <th></th>\n",
       "      <th></th>\n",
       "    </tr>\n",
       "  </thead>\n",
       "  <tbody>\n",
       "    <tr>\n",
       "      <th rowspan=\"3\" valign=\"top\">131.50</th>\n",
       "      <th>25</th>\n",
       "      <th>3</th>\n",
       "      <td>1</td>\n",
       "      <td>17</td>\n",
       "      <td>1</td>\n",
       "      <td>4.0</td>\n",
       "    </tr>\n",
       "    <tr>\n",
       "      <th>59</th>\n",
       "      <th>3</th>\n",
       "      <td>1</td>\n",
       "      <td>67</td>\n",
       "      <td>1</td>\n",
       "      <td>5.0</td>\n",
       "    </tr>\n",
       "    <tr>\n",
       "      <th>71</th>\n",
       "      <th>3</th>\n",
       "      <td>1</td>\n",
       "      <td>11</td>\n",
       "      <td>1</td>\n",
       "      <td>4.0</td>\n",
       "    </tr>\n",
       "    <tr>\n",
       "      <th rowspan=\"2\" valign=\"top\">131.75</th>\n",
       "      <th>4</th>\n",
       "      <th>3</th>\n",
       "      <td>1</td>\n",
       "      <td>56</td>\n",
       "      <td>1</td>\n",
       "      <td>4.0</td>\n",
       "    </tr>\n",
       "    <tr>\n",
       "      <th>37</th>\n",
       "      <th>3</th>\n",
       "      <td>1</td>\n",
       "      <td>61</td>\n",
       "      <td>1</td>\n",
       "      <td>5.0</td>\n",
       "    </tr>\n",
       "  </tbody>\n",
       "</table>\n",
       "</div>"
      ],
      "text/plain": [
       "                           transit_rate_observed  channel  quarter  \\\n",
       "day_quart skygroup season                                            \n",
       "131.50    25       3                           1       17        1   \n",
       "          59       3                           1       67        1   \n",
       "          71       3                           1       11        1   \n",
       "131.75    4        3                           1       56        1   \n",
       "          37       3                           1       61        1   \n",
       "\n",
       "                           transit_rate_threshold_quart  \n",
       "day_quart skygroup season                                \n",
       "131.50    25       3                                4.0  \n",
       "          59       3                                5.0  \n",
       "          71       3                                4.0  \n",
       "131.75    4        3                                4.0  \n",
       "          37       3                                5.0  "
      ]
     },
     "execution_count": 866,
     "metadata": {},
     "output_type": "execute_result"
    }
   ],
   "source": [
    "transit_rate.head()"
   ]
  },
  {
   "cell_type": "code",
   "execution_count": 867,
   "metadata": {
    "collapsed": false
   },
   "outputs": [
    {
     "data": {
      "text/plain": [
       "<matplotlib.axes._subplots.AxesSubplot at 0x7f12a3b376d8>"
      ]
     },
     "execution_count": 867,
     "metadata": {},
     "output_type": "execute_result"
    },
    {
     "data": {
      "image/png": "[encoded data removed]",
      "text/plain": [
       "<matplotlib.figure.Figure at 0x7f12a395f588>"
      ]
     },
     "metadata": {},
     "output_type": "display_data"
    }
   ],
   "source": [
    "transit_rate.transit_rate_observed.hist(bins=10, range=(0,10))"
   ]
  },
  {
   "cell_type": "code",
   "execution_count": 868,
   "metadata": {
    "collapsed": false
   },
   "outputs": [
    {
     "data": {
      "text/plain": [
       "153"
      ]
     },
     "execution_count": 868,
     "metadata": {},
     "output_type": "execute_result"
    }
   ],
   "source": [
    "mask_bad_data = transit_rate.transit_rate_observed >= transit_rate['transit_rate_threshold' + BIN_BY]\n",
    "mask_bad_data.sum()"
   ]
  },
  {
   "cell_type": "code",
   "execution_count": 869,
   "metadata": {
    "collapsed": false
   },
   "outputs": [
    {
     "data": {
      "text/html": [
       "<div>\n",
       "<table border=\"1\" class=\"dataframe\">\n",
       "  <thead>\n",
       "    <tr style=\"text-align: right;\">\n",
       "      <th></th>\n",
       "      <th></th>\n",
       "      <th></th>\n",
       "      <th>transit_rate_observed</th>\n",
       "      <th>channel</th>\n",
       "      <th>quarter</th>\n",
       "      <th>transit_rate_threshold_quart</th>\n",
       "    </tr>\n",
       "    <tr>\n",
       "      <th>day_quart</th>\n",
       "      <th>skygroup</th>\n",
       "      <th>season</th>\n",
       "      <th></th>\n",
       "      <th></th>\n",
       "      <th></th>\n",
       "      <th></th>\n",
       "    </tr>\n",
       "  </thead>\n",
       "  <tbody>\n",
       "    <tr>\n",
       "      <th>140.25</th>\n",
       "      <th>43</th>\n",
       "      <th>3</th>\n",
       "      <td>7</td>\n",
       "      <td>44</td>\n",
       "      <td>1</td>\n",
       "      <td>5.0</td>\n",
       "    </tr>\n",
       "    <tr>\n",
       "      <th>172.00</th>\n",
       "      <th>36</th>\n",
       "      <th>0</th>\n",
       "      <td>3</td>\n",
       "      <td>52</td>\n",
       "      <td>2</td>\n",
       "      <td>3.0</td>\n",
       "    </tr>\n",
       "    <tr>\n",
       "      <th>173.00</th>\n",
       "      <th>36</th>\n",
       "      <th>0</th>\n",
       "      <td>4</td>\n",
       "      <td>52</td>\n",
       "      <td>2</td>\n",
       "      <td>3.0</td>\n",
       "    </tr>\n",
       "    <tr>\n",
       "      <th>184.75</th>\n",
       "      <th>18</th>\n",
       "      <th>0</th>\n",
       "      <td>10</td>\n",
       "      <td>66</td>\n",
       "      <td>2</td>\n",
       "      <td>5.0</td>\n",
       "    </tr>\n",
       "    <tr>\n",
       "      <th rowspan=\"2\" valign=\"top\">186.25</th>\n",
       "      <th>18</th>\n",
       "      <th>0</th>\n",
       "      <td>5</td>\n",
       "      <td>66</td>\n",
       "      <td>2</td>\n",
       "      <td>5.0</td>\n",
       "    </tr>\n",
       "    <tr>\n",
       "      <th>58</th>\n",
       "      <th>0</th>\n",
       "      <td>9</td>\n",
       "      <td>26</td>\n",
       "      <td>2</td>\n",
       "      <td>5.0</td>\n",
       "    </tr>\n",
       "    <tr>\n",
       "      <th>230.50</th>\n",
       "      <th>58</th>\n",
       "      <th>0</th>\n",
       "      <td>5</td>\n",
       "      <td>26</td>\n",
       "      <td>2</td>\n",
       "      <td>5.0</td>\n",
       "    </tr>\n",
       "    <tr>\n",
       "      <th>230.75</th>\n",
       "      <th>58</th>\n",
       "      <th>0</th>\n",
       "      <td>5</td>\n",
       "      <td>26</td>\n",
       "      <td>2</td>\n",
       "      <td>5.0</td>\n",
       "    </tr>\n",
       "    <tr>\n",
       "      <th>231.25</th>\n",
       "      <th>58</th>\n",
       "      <th>0</th>\n",
       "      <td>6</td>\n",
       "      <td>26</td>\n",
       "      <td>2</td>\n",
       "      <td>5.0</td>\n",
       "    </tr>\n",
       "    <tr>\n",
       "      <th>232.00</th>\n",
       "      <th>58</th>\n",
       "      <th>0</th>\n",
       "      <td>5</td>\n",
       "      <td>26</td>\n",
       "      <td>2</td>\n",
       "      <td>5.0</td>\n",
       "    </tr>\n",
       "    <tr>\n",
       "      <th>232.25</th>\n",
       "      <th>58</th>\n",
       "      <th>0</th>\n",
       "      <td>14</td>\n",
       "      <td>26</td>\n",
       "      <td>2</td>\n",
       "      <td>5.0</td>\n",
       "    </tr>\n",
       "    <tr>\n",
       "      <th>232.50</th>\n",
       "      <th>58</th>\n",
       "      <th>0</th>\n",
       "      <td>12</td>\n",
       "      <td>26</td>\n",
       "      <td>2</td>\n",
       "      <td>5.0</td>\n",
       "    </tr>\n",
       "    <tr>\n",
       "      <th>232.75</th>\n",
       "      <th>58</th>\n",
       "      <th>0</th>\n",
       "      <td>24</td>\n",
       "      <td>26</td>\n",
       "      <td>2</td>\n",
       "      <td>5.0</td>\n",
       "    </tr>\n",
       "    <tr>\n",
       "      <th>233.00</th>\n",
       "      <th>58</th>\n",
       "      <th>0</th>\n",
       "      <td>16</td>\n",
       "      <td>26</td>\n",
       "      <td>2</td>\n",
       "      <td>5.0</td>\n",
       "    </tr>\n",
       "    <tr>\n",
       "      <th>233.25</th>\n",
       "      <th>58</th>\n",
       "      <th>0</th>\n",
       "      <td>20</td>\n",
       "      <td>26</td>\n",
       "      <td>2</td>\n",
       "      <td>5.0</td>\n",
       "    </tr>\n",
       "    <tr>\n",
       "      <th>233.50</th>\n",
       "      <th>58</th>\n",
       "      <th>0</th>\n",
       "      <td>15</td>\n",
       "      <td>26</td>\n",
       "      <td>2</td>\n",
       "      <td>5.0</td>\n",
       "    </tr>\n",
       "    <tr>\n",
       "      <th>233.75</th>\n",
       "      <th>58</th>\n",
       "      <th>0</th>\n",
       "      <td>14</td>\n",
       "      <td>26</td>\n",
       "      <td>2</td>\n",
       "      <td>5.0</td>\n",
       "    </tr>\n",
       "    <tr>\n",
       "      <th>234.00</th>\n",
       "      <th>58</th>\n",
       "      <th>0</th>\n",
       "      <td>11</td>\n",
       "      <td>26</td>\n",
       "      <td>2</td>\n",
       "      <td>5.0</td>\n",
       "    </tr>\n",
       "    <tr>\n",
       "      <th>234.25</th>\n",
       "      <th>58</th>\n",
       "      <th>0</th>\n",
       "      <td>5</td>\n",
       "      <td>26</td>\n",
       "      <td>2</td>\n",
       "      <td>5.0</td>\n",
       "    </tr>\n",
       "    <tr>\n",
       "      <th>234.50</th>\n",
       "      <th>58</th>\n",
       "      <th>0</th>\n",
       "      <td>5</td>\n",
       "      <td>26</td>\n",
       "      <td>2</td>\n",
       "      <td>5.0</td>\n",
       "    </tr>\n",
       "    <tr>\n",
       "      <th>235.50</th>\n",
       "      <th>58</th>\n",
       "      <th>0</th>\n",
       "      <td>7</td>\n",
       "      <td>26</td>\n",
       "      <td>2</td>\n",
       "      <td>5.0</td>\n",
       "    </tr>\n",
       "    <tr>\n",
       "      <th>235.75</th>\n",
       "      <th>58</th>\n",
       "      <th>0</th>\n",
       "      <td>6</td>\n",
       "      <td>26</td>\n",
       "      <td>2</td>\n",
       "      <td>5.0</td>\n",
       "    </tr>\n",
       "    <tr>\n",
       "      <th>238.50</th>\n",
       "      <th>58</th>\n",
       "      <th>0</th>\n",
       "      <td>6</td>\n",
       "      <td>26</td>\n",
       "      <td>2</td>\n",
       "      <td>5.0</td>\n",
       "    </tr>\n",
       "    <tr>\n",
       "      <th>261.25</th>\n",
       "      <th>41</th>\n",
       "      <th>1</th>\n",
       "      <td>4</td>\n",
       "      <td>44</td>\n",
       "      <td>3</td>\n",
       "      <td>4.0</td>\n",
       "    </tr>\n",
       "    <tr>\n",
       "      <th>295.75</th>\n",
       "      <th>82</th>\n",
       "      <th>1</th>\n",
       "      <td>5</td>\n",
       "      <td>54</td>\n",
       "      <td>3</td>\n",
       "      <td>5.0</td>\n",
       "    </tr>\n",
       "    <tr>\n",
       "      <th>309.75</th>\n",
       "      <th>66</th>\n",
       "      <th>1</th>\n",
       "      <td>5</td>\n",
       "      <td>58</td>\n",
       "      <td>3</td>\n",
       "      <td>5.0</td>\n",
       "    </tr>\n",
       "    <tr>\n",
       "      <th>324.50</th>\n",
       "      <th>41</th>\n",
       "      <th>1</th>\n",
       "      <td>5</td>\n",
       "      <td>44</td>\n",
       "      <td>3</td>\n",
       "      <td>4.0</td>\n",
       "    </tr>\n",
       "    <tr>\n",
       "      <th>346.25</th>\n",
       "      <th>12</th>\n",
       "      <th>1</th>\n",
       "      <td>3</td>\n",
       "      <td>72</td>\n",
       "      <td>3</td>\n",
       "      <td>3.0</td>\n",
       "    </tr>\n",
       "    <tr>\n",
       "      <th rowspan=\"2\" valign=\"top\">373.50</th>\n",
       "      <th>26</th>\n",
       "      <th>2</th>\n",
       "      <td>4</td>\n",
       "      <td>26</td>\n",
       "      <td>4</td>\n",
       "      <td>4.0</td>\n",
       "    </tr>\n",
       "    <tr>\n",
       "      <th>70</th>\n",
       "      <th>2</th>\n",
       "      <td>4</td>\n",
       "      <td>70</td>\n",
       "      <td>4</td>\n",
       "      <td>4.0</td>\n",
       "    </tr>\n",
       "    <tr>\n",
       "      <th>...</th>\n",
       "      <th>...</th>\n",
       "      <th>...</th>\n",
       "      <td>...</td>\n",
       "      <td>...</td>\n",
       "      <td>...</td>\n",
       "      <td>...</td>\n",
       "    </tr>\n",
       "    <tr>\n",
       "      <th>1338.50</th>\n",
       "      <th>58</th>\n",
       "      <th>0</th>\n",
       "      <td>16</td>\n",
       "      <td>26</td>\n",
       "      <td>14</td>\n",
       "      <td>5.0</td>\n",
       "    </tr>\n",
       "    <tr>\n",
       "      <th>1338.75</th>\n",
       "      <th>58</th>\n",
       "      <th>0</th>\n",
       "      <td>10</td>\n",
       "      <td>26</td>\n",
       "      <td>14</td>\n",
       "      <td>5.0</td>\n",
       "    </tr>\n",
       "    <tr>\n",
       "      <th>1339.00</th>\n",
       "      <th>58</th>\n",
       "      <th>0</th>\n",
       "      <td>8</td>\n",
       "      <td>26</td>\n",
       "      <td>14</td>\n",
       "      <td>5.0</td>\n",
       "    </tr>\n",
       "    <tr>\n",
       "      <th>1339.25</th>\n",
       "      <th>58</th>\n",
       "      <th>0</th>\n",
       "      <td>11</td>\n",
       "      <td>26</td>\n",
       "      <td>14</td>\n",
       "      <td>5.0</td>\n",
       "    </tr>\n",
       "    <tr>\n",
       "      <th>1339.50</th>\n",
       "      <th>58</th>\n",
       "      <th>0</th>\n",
       "      <td>14</td>\n",
       "      <td>26</td>\n",
       "      <td>14</td>\n",
       "      <td>5.0</td>\n",
       "    </tr>\n",
       "    <tr>\n",
       "      <th rowspan=\"2\" valign=\"top\">1339.75</th>\n",
       "      <th>26</th>\n",
       "      <th>0</th>\n",
       "      <td>4</td>\n",
       "      <td>58</td>\n",
       "      <td>14</td>\n",
       "      <td>4.0</td>\n",
       "    </tr>\n",
       "    <tr>\n",
       "      <th>58</th>\n",
       "      <th>0</th>\n",
       "      <td>31</td>\n",
       "      <td>26</td>\n",
       "      <td>14</td>\n",
       "      <td>5.0</td>\n",
       "    </tr>\n",
       "    <tr>\n",
       "      <th rowspan=\"2\" valign=\"top\">1340.00</th>\n",
       "      <th>26</th>\n",
       "      <th>0</th>\n",
       "      <td>5</td>\n",
       "      <td>58</td>\n",
       "      <td>14</td>\n",
       "      <td>4.0</td>\n",
       "    </tr>\n",
       "    <tr>\n",
       "      <th>58</th>\n",
       "      <th>0</th>\n",
       "      <td>19</td>\n",
       "      <td>26</td>\n",
       "      <td>14</td>\n",
       "      <td>5.0</td>\n",
       "    </tr>\n",
       "    <tr>\n",
       "      <th>1340.25</th>\n",
       "      <th>58</th>\n",
       "      <th>0</th>\n",
       "      <td>19</td>\n",
       "      <td>26</td>\n",
       "      <td>14</td>\n",
       "      <td>5.0</td>\n",
       "    </tr>\n",
       "    <tr>\n",
       "      <th rowspan=\"2\" valign=\"top\">1340.50</th>\n",
       "      <th>26</th>\n",
       "      <th>0</th>\n",
       "      <td>4</td>\n",
       "      <td>58</td>\n",
       "      <td>14</td>\n",
       "      <td>4.0</td>\n",
       "    </tr>\n",
       "    <tr>\n",
       "      <th>58</th>\n",
       "      <th>0</th>\n",
       "      <td>12</td>\n",
       "      <td>26</td>\n",
       "      <td>14</td>\n",
       "      <td>5.0</td>\n",
       "    </tr>\n",
       "    <tr>\n",
       "      <th>1340.75</th>\n",
       "      <th>58</th>\n",
       "      <th>0</th>\n",
       "      <td>5</td>\n",
       "      <td>26</td>\n",
       "      <td>14</td>\n",
       "      <td>5.0</td>\n",
       "    </tr>\n",
       "    <tr>\n",
       "      <th>1341.00</th>\n",
       "      <th>58</th>\n",
       "      <th>0</th>\n",
       "      <td>7</td>\n",
       "      <td>26</td>\n",
       "      <td>14</td>\n",
       "      <td>5.0</td>\n",
       "    </tr>\n",
       "    <tr>\n",
       "      <th>1341.25</th>\n",
       "      <th>58</th>\n",
       "      <th>0</th>\n",
       "      <td>11</td>\n",
       "      <td>26</td>\n",
       "      <td>14</td>\n",
       "      <td>5.0</td>\n",
       "    </tr>\n",
       "    <tr>\n",
       "      <th>1341.50</th>\n",
       "      <th>58</th>\n",
       "      <th>0</th>\n",
       "      <td>6</td>\n",
       "      <td>26</td>\n",
       "      <td>14</td>\n",
       "      <td>5.0</td>\n",
       "    </tr>\n",
       "    <tr>\n",
       "      <th>1341.75</th>\n",
       "      <th>58</th>\n",
       "      <th>0</th>\n",
       "      <td>5</td>\n",
       "      <td>26</td>\n",
       "      <td>14</td>\n",
       "      <td>5.0</td>\n",
       "    </tr>\n",
       "    <tr>\n",
       "      <th>1342.00</th>\n",
       "      <th>58</th>\n",
       "      <th>0</th>\n",
       "      <td>6</td>\n",
       "      <td>26</td>\n",
       "      <td>14</td>\n",
       "      <td>5.0</td>\n",
       "    </tr>\n",
       "    <tr>\n",
       "      <th rowspan=\"2\" valign=\"top\">1342.25</th>\n",
       "      <th>26</th>\n",
       "      <th>0</th>\n",
       "      <td>4</td>\n",
       "      <td>58</td>\n",
       "      <td>14</td>\n",
       "      <td>4.0</td>\n",
       "    </tr>\n",
       "    <tr>\n",
       "      <th>58</th>\n",
       "      <th>0</th>\n",
       "      <td>13</td>\n",
       "      <td>26</td>\n",
       "      <td>14</td>\n",
       "      <td>5.0</td>\n",
       "    </tr>\n",
       "    <tr>\n",
       "      <th>1342.50</th>\n",
       "      <th>58</th>\n",
       "      <th>0</th>\n",
       "      <td>11</td>\n",
       "      <td>26</td>\n",
       "      <td>14</td>\n",
       "      <td>5.0</td>\n",
       "    </tr>\n",
       "    <tr>\n",
       "      <th>1342.75</th>\n",
       "      <th>58</th>\n",
       "      <th>0</th>\n",
       "      <td>9</td>\n",
       "      <td>26</td>\n",
       "      <td>14</td>\n",
       "      <td>5.0</td>\n",
       "    </tr>\n",
       "    <tr>\n",
       "      <th>1343.00</th>\n",
       "      <th>58</th>\n",
       "      <th>0</th>\n",
       "      <td>12</td>\n",
       "      <td>26</td>\n",
       "      <td>14</td>\n",
       "      <td>5.0</td>\n",
       "    </tr>\n",
       "    <tr>\n",
       "      <th>1366.25</th>\n",
       "      <th>8</th>\n",
       "      <th>0</th>\n",
       "      <td>3</td>\n",
       "      <td>80</td>\n",
       "      <td>14</td>\n",
       "      <td>3.0</td>\n",
       "    </tr>\n",
       "    <tr>\n",
       "      <th>1382.00</th>\n",
       "      <th>41</th>\n",
       "      <th>1</th>\n",
       "      <td>5</td>\n",
       "      <td>44</td>\n",
       "      <td>15</td>\n",
       "      <td>4.0</td>\n",
       "    </tr>\n",
       "    <tr>\n",
       "      <th>1382.50</th>\n",
       "      <th>41</th>\n",
       "      <th>1</th>\n",
       "      <td>5</td>\n",
       "      <td>44</td>\n",
       "      <td>15</td>\n",
       "      <td>4.0</td>\n",
       "    </tr>\n",
       "    <tr>\n",
       "      <th>1382.75</th>\n",
       "      <th>41</th>\n",
       "      <th>1</th>\n",
       "      <td>4</td>\n",
       "      <td>44</td>\n",
       "      <td>15</td>\n",
       "      <td>4.0</td>\n",
       "    </tr>\n",
       "    <tr>\n",
       "      <th>1419.25</th>\n",
       "      <th>70</th>\n",
       "      <th>1</th>\n",
       "      <td>6</td>\n",
       "      <td>74</td>\n",
       "      <td>15</td>\n",
       "      <td>5.0</td>\n",
       "    </tr>\n",
       "    <tr>\n",
       "      <th>1492.50</th>\n",
       "      <th>82</th>\n",
       "      <th>2</th>\n",
       "      <td>7</td>\n",
       "      <td>82</td>\n",
       "      <td>16</td>\n",
       "      <td>5.0</td>\n",
       "    </tr>\n",
       "    <tr>\n",
       "      <th>1528.75</th>\n",
       "      <th>58</th>\n",
       "      <th>2</th>\n",
       "      <td>6</td>\n",
       "      <td>58</td>\n",
       "      <td>16</td>\n",
       "      <td>5.0</td>\n",
       "    </tr>\n",
       "  </tbody>\n",
       "</table>\n",
       "<p>153 rows × 4 columns</p>\n",
       "</div>"
      ],
      "text/plain": [
       "                           transit_rate_observed  channel  quarter  \\\n",
       "day_quart skygroup season                                            \n",
       "140.25    43       3                           7       44        1   \n",
       "172.00    36       0                           3       52        2   \n",
       "173.00    36       0                           4       52        2   \n",
       "184.75    18       0                          10       66        2   \n",
       "186.25    18       0                           5       66        2   \n",
       "          58       0                           9       26        2   \n",
       "230.50    58       0                           5       26        2   \n",
       "230.75    58       0                           5       26        2   \n",
       "231.25    58       0                           6       26        2   \n",
       "232.00    58       0                           5       26        2   \n",
       "232.25    58       0                          14       26        2   \n",
       "232.50    58       0                          12       26        2   \n",
       "232.75    58       0                          24       26        2   \n",
       "233.00    58       0                          16       26        2   \n",
       "233.25    58       0                          20       26        2   \n",
       "233.50    58       0                          15       26        2   \n",
       "233.75    58       0                          14       26        2   \n",
       "234.00    58       0                          11       26        2   \n",
       "234.25    58       0                           5       26        2   \n",
       "234.50    58       0                           5       26        2   \n",
       "235.50    58       0                           7       26        2   \n",
       "235.75    58       0                           6       26        2   \n",
       "238.50    58       0                           6       26        2   \n",
       "261.25    41       1                           4       44        3   \n",
       "295.75    82       1                           5       54        3   \n",
       "309.75    66       1                           5       58        3   \n",
       "324.50    41       1                           5       44        3   \n",
       "346.25    12       1                           3       72        3   \n",
       "373.50    26       2                           4       26        4   \n",
       "          70       2                           4       70        4   \n",
       "...                                          ...      ...      ...   \n",
       "1338.50   58       0                          16       26       14   \n",
       "1338.75   58       0                          10       26       14   \n",
       "1339.00   58       0                           8       26       14   \n",
       "1339.25   58       0                          11       26       14   \n",
       "1339.50   58       0                          14       26       14   \n",
       "1339.75   26       0                           4       58       14   \n",
       "          58       0                          31       26       14   \n",
       "1340.00   26       0                           5       58       14   \n",
       "          58       0                          19       26       14   \n",
       "1340.25   58       0                          19       26       14   \n",
       "1340.50   26       0                           4       58       14   \n",
       "          58       0                          12       26       14   \n",
       "1340.75   58       0                           5       26       14   \n",
       "1341.00   58       0                           7       26       14   \n",
       "1341.25   58       0                          11       26       14   \n",
       "1341.50   58       0                           6       26       14   \n",
       "1341.75   58       0                           5       26       14   \n",
       "1342.00   58       0                           6       26       14   \n",
       "1342.25   26       0                           4       58       14   \n",
       "          58       0                          13       26       14   \n",
       "1342.50   58       0                          11       26       14   \n",
       "1342.75   58       0                           9       26       14   \n",
       "1343.00   58       0                          12       26       14   \n",
       "1366.25   8        0                           3       80       14   \n",
       "1382.00   41       1                           5       44       15   \n",
       "1382.50   41       1                           5       44       15   \n",
       "1382.75   41       1                           4       44       15   \n",
       "1419.25   70       1                           6       74       15   \n",
       "1492.50   82       2                           7       82       16   \n",
       "1528.75   58       2                           6       58       16   \n",
       "\n",
       "                           transit_rate_threshold_quart  \n",
       "day_quart skygroup season                                \n",
       "140.25    43       3                                5.0  \n",
       "172.00    36       0                                3.0  \n",
       "173.00    36       0                                3.0  \n",
       "184.75    18       0                                5.0  \n",
       "186.25    18       0                                5.0  \n",
       "          58       0                                5.0  \n",
       "230.50    58       0                                5.0  \n",
       "230.75    58       0                                5.0  \n",
       "231.25    58       0                                5.0  \n",
       "232.00    58       0                                5.0  \n",
       "232.25    58       0                                5.0  \n",
       "232.50    58       0                                5.0  \n",
       "232.75    58       0                                5.0  \n",
       "233.00    58       0                                5.0  \n",
       "233.25    58       0                                5.0  \n",
       "233.50    58       0                                5.0  \n",
       "233.75    58       0                                5.0  \n",
       "234.00    58       0                                5.0  \n",
       "234.25    58       0                                5.0  \n",
       "234.50    58       0                                5.0  \n",
       "235.50    58       0                                5.0  \n",
       "235.75    58       0                                5.0  \n",
       "238.50    58       0                                5.0  \n",
       "261.25    41       1                                4.0  \n",
       "295.75    82       1                                5.0  \n",
       "309.75    66       1                                5.0  \n",
       "324.50    41       1                                4.0  \n",
       "346.25    12       1                                3.0  \n",
       "373.50    26       2                                4.0  \n",
       "          70       2                                4.0  \n",
       "...                                                 ...  \n",
       "1338.50   58       0                                5.0  \n",
       "1338.75   58       0                                5.0  \n",
       "1339.00   58       0                                5.0  \n",
       "1339.25   58       0                                5.0  \n",
       "1339.50   58       0                                5.0  \n",
       "1339.75   26       0                                4.0  \n",
       "          58       0                                5.0  \n",
       "1340.00   26       0                                4.0  \n",
       "          58       0                                5.0  \n",
       "1340.25   58       0                                5.0  \n",
       "1340.50   26       0                                4.0  \n",
       "          58       0                                5.0  \n",
       "1340.75   58       0                                5.0  \n",
       "1341.00   58       0                                5.0  \n",
       "1341.25   58       0                                5.0  \n",
       "1341.50   58       0                                5.0  \n",
       "1341.75   58       0                                5.0  \n",
       "1342.00   58       0                                5.0  \n",
       "1342.25   26       0                                4.0  \n",
       "          58       0                                5.0  \n",
       "1342.50   58       0                                5.0  \n",
       "1342.75   58       0                                5.0  \n",
       "1343.00   58       0                                5.0  \n",
       "1366.25   8        0                                3.0  \n",
       "1382.00   41       1                                4.0  \n",
       "1382.50   41       1                                4.0  \n",
       "1382.75   41       1                                4.0  \n",
       "1419.25   70       1                                5.0  \n",
       "1492.50   82       2                                5.0  \n",
       "1528.75   58       2                                5.0  \n",
       "\n",
       "[153 rows x 4 columns]"
      ]
     },
     "execution_count": 869,
     "metadata": {},
     "output_type": "execute_result"
    }
   ],
   "source": [
    "transit_rate[mask_bad_data]"
   ]
  },
  {
   "cell_type": "code",
   "execution_count": 870,
   "metadata": {
    "collapsed": false
   },
   "outputs": [
    {
     "data": {
      "text/plain": [
       "channel\n",
       "2      1\n",
       "70     1\n",
       "67     1\n",
       "65     1\n",
       "60     1\n",
       "81     1\n",
       "71     1\n",
       "72     1\n",
       "49     1\n",
       "74     1\n",
       "29     1\n",
       "27     1\n",
       "80     1\n",
       "10     1\n",
       "50     1\n",
       "66     2\n",
       "52     2\n",
       "54     3\n",
       "82     4\n",
       "58    16\n",
       "44    28\n",
       "26    83\n",
       "dtype: int64"
      ]
     },
     "execution_count": 870,
     "metadata": {},
     "output_type": "execute_result"
    }
   ],
   "source": [
    "transit_rate[mask_bad_data].reset_index().groupby('channel').size().sort_values()"
   ]
  },
  {
   "cell_type": "code",
   "execution_count": 871,
   "metadata": {
    "collapsed": false
   },
   "outputs": [
    {
     "data": {
      "text/plain": [
       "1312"
      ]
     },
     "execution_count": 871,
     "metadata": {},
     "output_type": "execute_result"
    }
   ],
   "source": [
    "mask_transits_flagged = transits.channel > 999\n",
    "for transit_day, skygroup, season in transit_rate[mask_bad_data].index:\n",
    "    mask_transits_flagged |= (\n",
    "                            (transits['day' + BIN_BY] == transit_day) &\n",
    "                            (transits.skygroup == skygroup) &\n",
    "                            (transits.season == season)\n",
    "                         )\n",
    "mask_transits_flagged.sum()"
   ]
  },
  {
   "cell_type": "code",
   "execution_count": 872,
   "metadata": {
    "collapsed": false
   },
   "outputs": [
    {
     "data": {
      "text/plain": [
       "620"
      ]
     },
     "execution_count": 872,
     "metadata": {},
     "output_type": "execute_result"
    }
   ],
   "source": [
    "tces_to_remove = transits[mask_transits_flagged].tce.unique()\n",
    "tces_to_remove.size"
   ]
  },
  {
   "cell_type": "code",
   "execution_count": 873,
   "metadata": {
    "collapsed": false
   },
   "outputs": [
    {
     "data": {
      "text/plain": [
       "2378"
      ]
     },
     "execution_count": 873,
     "metadata": {},
     "output_type": "execute_result"
    }
   ],
   "source": [
    "mask_transits_to_remove = transits.tce.isin(tces_to_remove)\n",
    "mask_transits_to_remove.sum()"
   ]
  },
  {
   "cell_type": "markdown",
   "metadata": {},
   "source": [
    "## What is the daily maximum?"
   ]
  },
  {
   "cell_type": "code",
   "execution_count": 874,
   "metadata": {
    "collapsed": false
   },
   "outputs": [
    {
     "data": {
      "text/plain": [
       "day_quart\n",
       "131.50    3\n",
       "131.75    2\n",
       "132.00    6\n",
       "132.25    3\n",
       "132.50    8\n",
       "dtype: int64"
      ]
     },
     "execution_count": 874,
     "metadata": {},
     "output_type": "execute_result"
    }
   ],
   "source": [
    "daily_transit_count = transits[~mask_transits_to_remove].groupby('day' + BIN_BY).size()\n",
    "daily_transit_count.head()"
   ]
  },
  {
   "cell_type": "code",
   "execution_count": 875,
   "metadata": {
    "collapsed": false
   },
   "outputs": [
    {
     "name": "stdout",
     "output_type": "stream",
     "text": [
      "n=10893 p=0.0008262186725419994\n"
     ]
    },
    {
     "data": {
      "text/plain": [
       "26.0"
      ]
     },
     "execution_count": 875,
     "metadata": {},
     "output_type": "execute_result"
    }
   ],
   "source": [
    "from scipy.stats import binom\n",
    "n_tces = transits[~mask_transits_to_remove].tce.unique().size\n",
    "p_transit = daily_transit_count.median() / n_tces\n",
    "daily_threshold = binom.ppf(1 - 1e-6, int(n_tces), p_transit)\n",
    "print('n={} p={}'.format(n_tces, p_transit))\n",
    "daily_threshold"
   ]
  },
  {
   "cell_type": "code",
   "execution_count": 876,
   "metadata": {
    "collapsed": false
   },
   "outputs": [
    {
     "data": {
      "text/plain": [
       "day_quart\n",
       "372.75     26\n",
       "373.50     34\n",
       "373.75     32\n",
       "914.50     26\n",
       "1093.50    26\n",
       "1093.75    86\n",
       "1185.00    52\n",
       "1231.75    56\n",
       "1232.00    28\n",
       "1235.50    32\n",
       "1490.75    26\n",
       "1561.00    48\n",
       "1561.25    30\n",
       "dtype: int64"
      ]
     },
     "execution_count": 876,
     "metadata": {},
     "output_type": "execute_result"
    }
   ],
   "source": [
    "daily_transit_count[daily_transit_count >= daily_threshold]"
   ]
  },
  {
   "cell_type": "code",
   "execution_count": 877,
   "metadata": {
    "collapsed": false
   },
   "outputs": [
    {
     "data": {
      "text/plain": [
       "Float64Index([373.5, 373.75, 1093.75, 1185.0, 1231.75, 1232.0, 1235.5, 1561.0,\n",
       "              1561.25],\n",
       "             dtype='float64', name='day_quart')"
      ]
     },
     "execution_count": 877,
     "metadata": {},
     "output_type": "execute_result"
    }
   ],
   "source": [
    "days_to_remove = daily_transit_count[daily_transit_count > daily_threshold].index\n",
    "days_to_remove"
   ]
  },
  {
   "cell_type": "code",
   "execution_count": 878,
   "metadata": {
    "collapsed": false
   },
   "outputs": [
    {
     "data": {
      "text/plain": [
       "1723"
      ]
     },
     "execution_count": 878,
     "metadata": {},
     "output_type": "execute_result"
    }
   ],
   "source": [
    "mask_transits_flagged2 = mask_transits_flagged | transits['day' + BIN_BY].isin(days_to_remove)\n",
    "mask_transits_flagged2.sum()"
   ]
  },
  {
   "cell_type": "code",
   "execution_count": 879,
   "metadata": {
    "collapsed": false
   },
   "outputs": [
    {
     "data": {
      "text/plain": [
       "1012"
      ]
     },
     "execution_count": 879,
     "metadata": {},
     "output_type": "execute_result"
    }
   ],
   "source": [
    "tces_to_remove2 = transits[mask_transits_flagged2].tce.unique()\n",
    "tces_to_remove2.size"
   ]
  },
  {
   "cell_type": "code",
   "execution_count": 880,
   "metadata": {
    "collapsed": false
   },
   "outputs": [
    {
     "data": {
      "text/plain": [
       "4134"
      ]
     },
     "execution_count": 880,
     "metadata": {},
     "output_type": "execute_result"
    }
   ],
   "source": [
    "mask_transits_to_remove2 = transits.tce.isin(tces_to_remove2)\n",
    "mask_transits_to_remove2.sum()"
   ]
  },
  {
   "cell_type": "markdown",
   "metadata": {},
   "source": [
    "## Write output file"
   ]
  },
  {
   "cell_type": "code",
   "execution_count": 881,
   "metadata": {
    "collapsed": false
   },
   "outputs": [
    {
     "name": "stdout",
     "output_type": "stream",
     "text": [
      "binomial_quart_least_agressive\n"
     ]
    }
   ],
   "source": [
    "output_prefix = 'binomial{}_{}'.format(BIN_BY, AGRESSIVITY)\n",
    "print(output_prefix)"
   ]
  },
  {
   "cell_type": "code",
   "execution_count": 882,
   "metadata": {
    "collapsed": false
   },
   "outputs": [
    {
     "data": {
      "text/plain": [
       "\"\\nwith open('halfday-binomial-strict-OPS.txt', 'w') as out:\\n    out.write('# This file lists transits of long-period (>100 days), low-mes (<20) candidates\\n')\\n    out.write('# which occured on days when an implausibly high number of transits were detected\\n')\\n    out.write('# on the same channel.\\n')\\n    out.write('# 1 = bad transit\\n')\\n    for row in transits[mask_transits_flagged2].sort_values('tce').itertuples():\\n        out.write('{} {:11.6f} 1\\n'.format(row.tce, row.transit_time_x))\\n\""
      ]
     },
     "execution_count": 882,
     "metadata": {},
     "output_type": "execute_result"
    }
   ],
   "source": [
    "\"\"\"\n",
    "with open('halfday-binomial-strict-OPS.txt', 'w') as out:\n",
    "    out.write('# This file lists transits of long-period (>100 days), low-mes (<20) candidates\\n')\n",
    "    out.write('# which occured on days when an implausibly high number of transits were detected\\n')\n",
    "    out.write('# on the same channel.\\n')\n",
    "    out.write('# 1 = bad transit\\n')\n",
    "    for row in transits[mask_transits_flagged2].sort_values('tce').itertuples():\n",
    "        out.write('{} {:11.6f} 1\\n'.format(row.tce, row.transit_time_x))\n",
    "\"\"\""
   ]
  },
  {
   "cell_type": "code",
   "execution_count": 883,
   "metadata": {
    "collapsed": false
   },
   "outputs": [],
   "source": [
    "with open(output_prefix + '_definition.txt', 'w') as out:\n",
    "    out.write('# This file specifies the times (floored bkjd) and skygroups during which\\n')\n",
    "    out.write('# an anomalous number of long-period (>100 days), low-mes (<20) transits were detected.\\n')\n",
    "    out.write('#\\n')\n",
    "    out.write('# bkjd skygroup\\n')\n",
    "    for row in transit_rate[mask_bad_data].reset_index().itertuples():\n",
    "        out.write('{} {}\\n'.format(row.__getattribute__('day' + BIN_BY), row.skygroup))\n",
    "    for day in days_to_remove:\n",
    "        for channel in range(1, 85):\n",
    "            out.write('{} {}\\n'.format(day, channel))"
   ]
  },
  {
   "cell_type": "code",
   "execution_count": 884,
   "metadata": {
    "collapsed": false
   },
   "outputs": [
    {
     "data": {
      "text/plain": [
       "''"
      ]
     },
     "execution_count": 884,
     "metadata": {},
     "output_type": "execute_result"
    },
    {
     "data": {
      "image/png": "[encoded data removed]",
      "text/plain": [
       "<matplotlib.figure.Figure at 0x7f12a8439978>"
      ]
     },
     "metadata": {},
     "output_type": "display_data"
    }
   ],
   "source": [
    "pl.figure(figsize=(10,7))\n",
    "pl.subplot(211)\n",
    "_ = pl.hist(transits.groupby('tce').first().tce_period, bins=100, label='Before cut',\n",
    "            facecolor='red')\n",
    "_ = pl.hist(transits[~mask_transits_to_remove2].groupby('tce').first().tce_period, bins=100,  label='After cut',\n",
    "            facecolor='blue')\n",
    "pl.xlabel('Period [days]', fontsize=14)\n",
    "pl.legend()\n",
    "pl.title('Binomial threshold (day{}_{})'.format(BIN_BY, AGRESSIVITY), fontsize=18)\n",
    "pl.text(700, 400, 'Only showing\\nperiod > 100 days\\nmax_mult_ev < 20', ha='left')\n",
    "\n",
    "pl.subplot(212)\n",
    "_ = pl.hist(transits.transit_time_x,\n",
    "            lw=0, facecolor='red', label='Before cut',\n",
    "            bins=(KEPLER_END_BK - KEPLER_BEGIN_BK),\n",
    "            range=(KEPLER_BEGIN_BK, KEPLER_END_BK))\n",
    "_ = pl.hist(transits[~mask_transits_to_remove2].transit_time_x,\n",
    "            lw=0, facecolor='blue', label='After cut',\n",
    "            bins=(KEPLER_END_BK - KEPLER_BEGIN_BK),\n",
    "            range=(KEPLER_BEGIN_BK, KEPLER_END_BK))\n",
    "pl.ylim([0, 200])\n",
    "pl.xlim([KEPLER_BEGIN_BK, KEPLER_END_BK])\n",
    "pl.legend()\n",
    "pl.xlabel('Transit time', fontsize=14)\n",
    "pl.text(1390, 120, 'Only showing\\nperiod > 100 days\\nmax_mult_ev < 20', ha='left')\n",
    "pl.tight_layout()\n",
    "pl.savefig('{}.png'.format(output_prefix))\n",
    "\"\"\"\"\"\""
   ]
  },
  {
   "cell_type": "code",
   "execution_count": 885,
   "metadata": {
    "collapsed": false
   },
   "outputs": [
    {
     "data": {
      "text/plain": [
       "\"\\npl.figure(figsize=(10,4))\\n_ = pl.hist(transits.transit_time_x,\\n            lw=0, facecolor='red', label='Before',\\n            bins=(KEPLER_END_BK - KEPLER_BEGIN_BK),\\n            range=(KEPLER_BEGIN_BK, KEPLER_END_BK))\\n_ = pl.hist(transits[~mask_transits_to_remove2].transit_time_x,\\n            lw=0, facecolor='blue', label='After',\\n            bins=(KEPLER_END_BK - KEPLER_BEGIN_BK),\\n            range=(KEPLER_BEGIN_BK, KEPLER_END_BK))\\npl.ylim([0, 200])\\npl.xlim([KEPLER_BEGIN_BK, KEPLER_END_BK])\\npl.legend()\\npl.xlabel('transit time')\\npl.title('Binomial cut for TCEs with period > 100 days and max_mult_ev < 20')\\n\""
      ]
     },
     "execution_count": 885,
     "metadata": {},
     "output_type": "execute_result"
    }
   ],
   "source": [
    "\"\"\"\n",
    "pl.figure(figsize=(10,4))\n",
    "_ = pl.hist(transits.transit_time_x,\n",
    "            lw=0, facecolor='red', label='Before',\n",
    "            bins=(KEPLER_END_BK - KEPLER_BEGIN_BK),\n",
    "            range=(KEPLER_BEGIN_BK, KEPLER_END_BK))\n",
    "_ = pl.hist(transits[~mask_transits_to_remove2].transit_time_x,\n",
    "            lw=0, facecolor='blue', label='After',\n",
    "            bins=(KEPLER_END_BK - KEPLER_BEGIN_BK),\n",
    "            range=(KEPLER_BEGIN_BK, KEPLER_END_BK))\n",
    "pl.ylim([0, 200])\n",
    "pl.xlim([KEPLER_BEGIN_BK, KEPLER_END_BK])\n",
    "pl.legend()\n",
    "pl.xlabel('transit time')\n",
    "pl.title('Binomial cut for TCEs with period > 100 days and max_mult_ev < 20')\n",
    "\"\"\""
   ]
  },
  {
   "cell_type": "code",
   "execution_count": 886,
   "metadata": {
    "collapsed": false
   },
   "outputs": [
    {
     "data": {
      "text/plain": [
       "'\\n_ = pl.hist(transits[~mask_transits_to_remove2].transit_time_x,\\n            bins=(KEPLER_END_BK - KEPLER_BEGIN_BK),\\n            range=(KEPLER_BEGIN_BK, KEPLER_END_BK))\\npl.ylim([0, 200])\\n'"
      ]
     },
     "execution_count": 886,
     "metadata": {},
     "output_type": "execute_result"
    }
   ],
   "source": [
    "\"\"\"\n",
    "_ = pl.hist(transits[~mask_transits_to_remove2].transit_time_x,\n",
    "            bins=(KEPLER_END_BK - KEPLER_BEGIN_BK),\n",
    "            range=(KEPLER_BEGIN_BK, KEPLER_END_BK))\n",
    "pl.ylim([0, 200])\n",
    "\"\"\""
   ]
  },
  {
   "cell_type": "code",
   "execution_count": 887,
   "metadata": {
    "collapsed": false
   },
   "outputs": [],
   "source": [
    "#transits.tce_max_mult_ev.hist(bins=30, range=(0,30))"
   ]
  },
  {
   "cell_type": "code",
   "execution_count": 888,
   "metadata": {
    "collapsed": false
   },
   "outputs": [],
   "source": [
    "#transits[mask_transits_to_remove].groupby('channel').size()"
   ]
  }
 ],
 "metadata": {
  "kernelspec": {
   "display_name": "Python [Root]",
   "language": "python",
   "name": "Python [Root]"
  },
  "language_info": {
   "codemirror_mode": {
    "name": "ipython",
    "version": 3
   },
   "file_extension": ".py",
   "mimetype": "text/x-python",
   "name": "python",
   "nbconvert_exporter": "python",
   "pygments_lexer": "ipython3",
   "version": "3.5.2"
  }
 },
 "nbformat": 4,
 "nbformat_minor": 0
}
